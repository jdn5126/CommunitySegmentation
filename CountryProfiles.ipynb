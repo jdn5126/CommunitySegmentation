{
 "cells": [
  {
   "cell_type": "markdown",
   "metadata": {},
   "source": [
    "### <p style=\"text-align: center;\">Community Segmentation</p>\n",
    "# <p style=\"text-align: center;\">Country Profiles</p>\n",
    "#### <p style=\"text-align: center;\">Jeffrey D Nelson and David N Campbell</p>"
   ]
  },
  {
   "cell_type": "markdown",
   "metadata": {},
   "source": [
    "The purpose of this notebook is to use K-Means to group countries based on socio-economic and health factors. This grouping will be used to determine which countries are in greatest need of relief."
   ]
  },
  {
   "cell_type": "code",
   "execution_count": 1,
   "metadata": {},
   "outputs": [
    {
     "data": {
      "text/html": [
       "<div>\n",
       "<style scoped>\n",
       "    .dataframe tbody tr th:only-of-type {\n",
       "        vertical-align: middle;\n",
       "    }\n",
       "\n",
       "    .dataframe tbody tr th {\n",
       "        vertical-align: top;\n",
       "    }\n",
       "\n",
       "    .dataframe thead th {\n",
       "        text-align: right;\n",
       "    }\n",
       "</style>\n",
       "<table border=\"1\" class=\"dataframe\">\n",
       "  <thead>\n",
       "    <tr style=\"text-align: right;\">\n",
       "      <th></th>\n",
       "      <th>country</th>\n",
       "      <th>child_mort</th>\n",
       "      <th>exports</th>\n",
       "      <th>health</th>\n",
       "      <th>imports</th>\n",
       "      <th>income</th>\n",
       "      <th>inflation</th>\n",
       "      <th>life_expec</th>\n",
       "      <th>total_fer</th>\n",
       "      <th>gdpp</th>\n",
       "    </tr>\n",
       "  </thead>\n",
       "  <tbody>\n",
       "    <tr>\n",
       "      <th>0</th>\n",
       "      <td>Afghanistan</td>\n",
       "      <td>90.2</td>\n",
       "      <td>10.0</td>\n",
       "      <td>7.58</td>\n",
       "      <td>44.9</td>\n",
       "      <td>1610</td>\n",
       "      <td>9.44</td>\n",
       "      <td>56.2</td>\n",
       "      <td>5.82</td>\n",
       "      <td>553</td>\n",
       "    </tr>\n",
       "    <tr>\n",
       "      <th>1</th>\n",
       "      <td>Albania</td>\n",
       "      <td>16.6</td>\n",
       "      <td>28.0</td>\n",
       "      <td>6.55</td>\n",
       "      <td>48.6</td>\n",
       "      <td>9930</td>\n",
       "      <td>4.49</td>\n",
       "      <td>76.3</td>\n",
       "      <td>1.65</td>\n",
       "      <td>4090</td>\n",
       "    </tr>\n",
       "    <tr>\n",
       "      <th>2</th>\n",
       "      <td>Algeria</td>\n",
       "      <td>27.3</td>\n",
       "      <td>38.4</td>\n",
       "      <td>4.17</td>\n",
       "      <td>31.4</td>\n",
       "      <td>12900</td>\n",
       "      <td>16.10</td>\n",
       "      <td>76.5</td>\n",
       "      <td>2.89</td>\n",
       "      <td>4460</td>\n",
       "    </tr>\n",
       "    <tr>\n",
       "      <th>3</th>\n",
       "      <td>Angola</td>\n",
       "      <td>119.0</td>\n",
       "      <td>62.3</td>\n",
       "      <td>2.85</td>\n",
       "      <td>42.9</td>\n",
       "      <td>5900</td>\n",
       "      <td>22.40</td>\n",
       "      <td>60.1</td>\n",
       "      <td>6.16</td>\n",
       "      <td>3530</td>\n",
       "    </tr>\n",
       "    <tr>\n",
       "      <th>4</th>\n",
       "      <td>Antigua and Barbuda</td>\n",
       "      <td>10.3</td>\n",
       "      <td>45.5</td>\n",
       "      <td>6.03</td>\n",
       "      <td>58.9</td>\n",
       "      <td>19100</td>\n",
       "      <td>1.44</td>\n",
       "      <td>76.8</td>\n",
       "      <td>2.13</td>\n",
       "      <td>12200</td>\n",
       "    </tr>\n",
       "  </tbody>\n",
       "</table>\n",
       "</div>"
      ],
      "text/plain": [
       "               country  child_mort  exports  health  imports  income  \\\n",
       "0          Afghanistan        90.2     10.0    7.58     44.9    1610   \n",
       "1              Albania        16.6     28.0    6.55     48.6    9930   \n",
       "2              Algeria        27.3     38.4    4.17     31.4   12900   \n",
       "3               Angola       119.0     62.3    2.85     42.9    5900   \n",
       "4  Antigua and Barbuda        10.3     45.5    6.03     58.9   19100   \n",
       "\n",
       "   inflation  life_expec  total_fer   gdpp  \n",
       "0       9.44        56.2       5.82    553  \n",
       "1       4.49        76.3       1.65   4090  \n",
       "2      16.10        76.5       2.89   4460  \n",
       "3      22.40        60.1       6.16   3530  \n",
       "4       1.44        76.8       2.13  12200  "
      ]
     },
     "execution_count": 1,
     "metadata": {},
     "output_type": "execute_result"
    }
   ],
   "source": [
    "import matplotlib.pyplot as plt\n",
    "import numpy as np\n",
    "import pandas as pd\n",
    "import seaborn as sns\n",
    "\n",
    "# Set seaborn defaults\n",
    "sns.set()\n",
    "\n",
    "df = pd.read_csv(r'data/country-data.csv')\n",
    "df.head()"
   ]
  },
  {
   "cell_type": "code",
   "execution_count": 2,
   "metadata": {},
   "outputs": [
    {
     "data": {
      "text/html": [
       "<div>\n",
       "<style scoped>\n",
       "    .dataframe tbody tr th:only-of-type {\n",
       "        vertical-align: middle;\n",
       "    }\n",
       "\n",
       "    .dataframe tbody tr th {\n",
       "        vertical-align: top;\n",
       "    }\n",
       "\n",
       "    .dataframe thead th {\n",
       "        text-align: right;\n",
       "    }\n",
       "</style>\n",
       "<table border=\"1\" class=\"dataframe\">\n",
       "  <thead>\n",
       "    <tr style=\"text-align: right;\">\n",
       "      <th></th>\n",
       "      <th>child_mort</th>\n",
       "      <th>exports</th>\n",
       "      <th>health</th>\n",
       "      <th>imports</th>\n",
       "      <th>income</th>\n",
       "      <th>inflation</th>\n",
       "      <th>life_expec</th>\n",
       "      <th>total_fer</th>\n",
       "      <th>gdpp</th>\n",
       "    </tr>\n",
       "  </thead>\n",
       "  <tbody>\n",
       "    <tr>\n",
       "      <th>count</th>\n",
       "      <td>167.000000</td>\n",
       "      <td>167.000000</td>\n",
       "      <td>167.000000</td>\n",
       "      <td>167.000000</td>\n",
       "      <td>167.000000</td>\n",
       "      <td>167.000000</td>\n",
       "      <td>167.000000</td>\n",
       "      <td>167.000000</td>\n",
       "      <td>167.000000</td>\n",
       "    </tr>\n",
       "    <tr>\n",
       "      <th>mean</th>\n",
       "      <td>38.270060</td>\n",
       "      <td>41.108976</td>\n",
       "      <td>6.815689</td>\n",
       "      <td>46.890215</td>\n",
       "      <td>17144.688623</td>\n",
       "      <td>7.781832</td>\n",
       "      <td>70.555689</td>\n",
       "      <td>2.947964</td>\n",
       "      <td>12964.155689</td>\n",
       "    </tr>\n",
       "    <tr>\n",
       "      <th>std</th>\n",
       "      <td>40.328931</td>\n",
       "      <td>27.412010</td>\n",
       "      <td>2.746837</td>\n",
       "      <td>24.209589</td>\n",
       "      <td>19278.067698</td>\n",
       "      <td>10.570704</td>\n",
       "      <td>8.893172</td>\n",
       "      <td>1.513848</td>\n",
       "      <td>18328.704809</td>\n",
       "    </tr>\n",
       "    <tr>\n",
       "      <th>min</th>\n",
       "      <td>2.600000</td>\n",
       "      <td>0.109000</td>\n",
       "      <td>1.810000</td>\n",
       "      <td>0.065900</td>\n",
       "      <td>609.000000</td>\n",
       "      <td>-4.210000</td>\n",
       "      <td>32.100000</td>\n",
       "      <td>1.150000</td>\n",
       "      <td>231.000000</td>\n",
       "    </tr>\n",
       "    <tr>\n",
       "      <th>25%</th>\n",
       "      <td>8.250000</td>\n",
       "      <td>23.800000</td>\n",
       "      <td>4.920000</td>\n",
       "      <td>30.200000</td>\n",
       "      <td>3355.000000</td>\n",
       "      <td>1.810000</td>\n",
       "      <td>65.300000</td>\n",
       "      <td>1.795000</td>\n",
       "      <td>1330.000000</td>\n",
       "    </tr>\n",
       "    <tr>\n",
       "      <th>50%</th>\n",
       "      <td>19.300000</td>\n",
       "      <td>35.000000</td>\n",
       "      <td>6.320000</td>\n",
       "      <td>43.300000</td>\n",
       "      <td>9960.000000</td>\n",
       "      <td>5.390000</td>\n",
       "      <td>73.100000</td>\n",
       "      <td>2.410000</td>\n",
       "      <td>4660.000000</td>\n",
       "    </tr>\n",
       "    <tr>\n",
       "      <th>75%</th>\n",
       "      <td>62.100000</td>\n",
       "      <td>51.350000</td>\n",
       "      <td>8.600000</td>\n",
       "      <td>58.750000</td>\n",
       "      <td>22800.000000</td>\n",
       "      <td>10.750000</td>\n",
       "      <td>76.800000</td>\n",
       "      <td>3.880000</td>\n",
       "      <td>14050.000000</td>\n",
       "    </tr>\n",
       "    <tr>\n",
       "      <th>max</th>\n",
       "      <td>208.000000</td>\n",
       "      <td>200.000000</td>\n",
       "      <td>17.900000</td>\n",
       "      <td>174.000000</td>\n",
       "      <td>125000.000000</td>\n",
       "      <td>104.000000</td>\n",
       "      <td>82.800000</td>\n",
       "      <td>7.490000</td>\n",
       "      <td>105000.000000</td>\n",
       "    </tr>\n",
       "  </tbody>\n",
       "</table>\n",
       "</div>"
      ],
      "text/plain": [
       "       child_mort     exports      health     imports         income  \\\n",
       "count  167.000000  167.000000  167.000000  167.000000     167.000000   \n",
       "mean    38.270060   41.108976    6.815689   46.890215   17144.688623   \n",
       "std     40.328931   27.412010    2.746837   24.209589   19278.067698   \n",
       "min      2.600000    0.109000    1.810000    0.065900     609.000000   \n",
       "25%      8.250000   23.800000    4.920000   30.200000    3355.000000   \n",
       "50%     19.300000   35.000000    6.320000   43.300000    9960.000000   \n",
       "75%     62.100000   51.350000    8.600000   58.750000   22800.000000   \n",
       "max    208.000000  200.000000   17.900000  174.000000  125000.000000   \n",
       "\n",
       "        inflation  life_expec   total_fer           gdpp  \n",
       "count  167.000000  167.000000  167.000000     167.000000  \n",
       "mean     7.781832   70.555689    2.947964   12964.155689  \n",
       "std     10.570704    8.893172    1.513848   18328.704809  \n",
       "min     -4.210000   32.100000    1.150000     231.000000  \n",
       "25%      1.810000   65.300000    1.795000    1330.000000  \n",
       "50%      5.390000   73.100000    2.410000    4660.000000  \n",
       "75%     10.750000   76.800000    3.880000   14050.000000  \n",
       "max    104.000000   82.800000    7.490000  105000.000000  "
      ]
     },
     "execution_count": 2,
     "metadata": {},
     "output_type": "execute_result"
    }
   ],
   "source": [
    "df.describe()"
   ]
  },
  {
   "cell_type": "markdown",
   "metadata": {},
   "source": [
    "## Data Preprocessing\n",
    "\n",
    "Before we can train any models, we must preprocess the data. First, we handle non-numeric features."
   ]
  },
  {
   "cell_type": "markdown",
   "metadata": {},
   "source": [
    "In this case, there is only one non-numeric feature, `country`. This was found using `df.select_dtypes(exclude=np.number).columns`. This feature is irrelevant, so we just drop it."
   ]
  },
  {
   "cell_type": "code",
   "execution_count": 3,
   "metadata": {},
   "outputs": [],
   "source": [
    "labels = df['country']\n",
    "df = df.drop(columns=['country'])"
   ]
  },
  {
   "cell_type": "markdown",
   "metadata": {},
   "source": [
    "Luckily, there are no missing values in this data set, so we can skip this preprocessing step."
   ]
  },
  {
   "cell_type": "markdown",
   "metadata": {},
   "source": [
    "### Scaling\n",
    "\n",
    "After a few iterations, we determined that our clustering was performing poorly due to magnitude mismatches in the data set. Therefore, we scale the data using StandardScaler."
   ]
  },
  {
   "cell_type": "code",
   "execution_count": 4,
   "metadata": {},
   "outputs": [],
   "source": [
    "from sklearn.preprocessing import StandardScaler\n",
    "\n",
    "scaler = StandardScaler()\n",
    "df_scaled = pd.DataFrame(scaler.fit_transform(df), index=df.index, columns=df.columns)"
   ]
  },
  {
   "cell_type": "code",
   "execution_count": 5,
   "metadata": {},
   "outputs": [
    {
     "data": {
      "text/plain": [
       "<AxesSubplot:>"
      ]
     },
     "execution_count": 5,
     "metadata": {},
     "output_type": "execute_result"
    },
    {
     "data": {
      "image/png": "[encoded data removed]",
      "text/plain": [
       "<Figure size 576x360 with 1 Axes>"
      ]
     },
     "metadata": {},
     "output_type": "display_data"
    }
   ],
   "source": [
    "plt.figure(figsize=(8, 5))\n",
    "df_scaled.boxplot()"
   ]
  },
  {
   "cell_type": "markdown",
   "metadata": {},
   "source": [
    "### Feature Correlations\n",
    "\n",
    "The correlation between features is an important attribute to explore. A great way to visualize these correlations is using a heat map, which seaborn makes simple."
   ]
  },
  {
   "cell_type": "code",
   "execution_count": 6,
   "metadata": {},
   "outputs": [
    {
     "data": {
      "image/png": "[encoded data removed]",
      "text/plain": [
       "<Figure size 432x288 with 2 Axes>"
      ]
     },
     "metadata": {},
     "output_type": "display_data"
    }
   ],
   "source": [
    "import seaborn as sns\n",
    "\n",
    "g = sns.heatmap(df_scaled.corr(), annot=False, linewidths=0.1, vmax=1.0, linecolor='white', cmap=plt.cm.RdBu)\n",
    "g.set_title(\"Pair-wise Heat map\")\n",
    "plt.show()"
   ]
  },
  {
   "cell_type": "markdown",
   "metadata": {},
   "source": [
    "From the chart, there are many interesting correlations, but some of the strongest are listed below:\n",
    "- Life expectancy is negatively correlated with child mortality. This makes sense as the death of more children will bring the overally average down.\n",
    "- Exports are strongly correlated with imports. This makes sense, as countries with strong economies are likely to import and export a lot.\n",
    "- Income and gdp are highly positively correlated. This makes sense because the more individuals have to spend on average, the more goods are produced to meet that demand. \n",
    "- Child mortality is negatively correlated with income. This makes sense because countries that cannot pay for child healthcare intuitively indicates that children would die more often, unfortunately."
   ]
  },
  {
   "cell_type": "markdown",
   "metadata": {},
   "source": [
    "## PCA\n",
    "\n",
    "Since there are so many features, we use PCA to decompose to the subset that captures the majority of the variance in the dataset."
   ]
  },
  {
   "cell_type": "code",
   "execution_count": 7,
   "metadata": {},
   "outputs": [
    {
     "data": {
      "image/png": "[encoded data removed]",
      "text/plain": [
       "<Figure size 432x288 with 1 Axes>"
      ]
     },
     "metadata": {},
     "output_type": "display_data"
    }
   ],
   "source": [
    "from sklearn.decomposition import PCA\n",
    "\n",
    "num_features = len(df_scaled.columns)\n",
    "\n",
    "pca = PCA(n_components=num_features)\n",
    "principal_components = pca.fit_transform(df_scaled)\n",
    "\n",
    "# Plot the explained variances\n",
    "features = range(pca.n_components_)\n",
    "plt.bar(features, pca.explained_variance_ratio_, color='black')\n",
    "plt.xlabel('PCA features')\n",
    "plt.ylabel('variance %')\n",
    "plt.xticks(features)\n",
    "plt.show()"
   ]
  },
  {
   "cell_type": "markdown",
   "metadata": {},
   "source": [
    "It is recommended that we choose as many features as are needed to explain at least 80% of the variance. In the plot above, one can see that we will need the first 3 principle components."
   ]
  },
  {
   "cell_type": "code",
   "execution_count": 8,
   "metadata": {},
   "outputs": [
    {
     "data": {
      "text/html": [
       "<div>\n",
       "<style scoped>\n",
       "    .dataframe tbody tr th:only-of-type {\n",
       "        vertical-align: middle;\n",
       "    }\n",
       "\n",
       "    .dataframe tbody tr th {\n",
       "        vertical-align: top;\n",
       "    }\n",
       "\n",
       "    .dataframe thead th {\n",
       "        text-align: right;\n",
       "    }\n",
       "</style>\n",
       "<table border=\"1\" class=\"dataframe\">\n",
       "  <thead>\n",
       "    <tr style=\"text-align: right;\">\n",
       "      <th></th>\n",
       "      <th>PC-1</th>\n",
       "      <th>PC-2</th>\n",
       "      <th>PC-3</th>\n",
       "    </tr>\n",
       "  </thead>\n",
       "  <tbody>\n",
       "    <tr>\n",
       "      <th>child_mort</th>\n",
       "      <td>-0.419519</td>\n",
       "      <td>0.192884</td>\n",
       "      <td>-0.029544</td>\n",
       "    </tr>\n",
       "    <tr>\n",
       "      <th>exports</th>\n",
       "      <td>0.283897</td>\n",
       "      <td>0.613163</td>\n",
       "      <td>0.144761</td>\n",
       "    </tr>\n",
       "    <tr>\n",
       "      <th>health</th>\n",
       "      <td>0.150838</td>\n",
       "      <td>-0.243087</td>\n",
       "      <td>-0.596632</td>\n",
       "    </tr>\n",
       "    <tr>\n",
       "      <th>imports</th>\n",
       "      <td>0.161482</td>\n",
       "      <td>0.671821</td>\n",
       "      <td>-0.299927</td>\n",
       "    </tr>\n",
       "    <tr>\n",
       "      <th>income</th>\n",
       "      <td>0.398441</td>\n",
       "      <td>0.022536</td>\n",
       "      <td>0.301548</td>\n",
       "    </tr>\n",
       "    <tr>\n",
       "      <th>inflation</th>\n",
       "      <td>-0.193173</td>\n",
       "      <td>-0.008404</td>\n",
       "      <td>0.642520</td>\n",
       "    </tr>\n",
       "    <tr>\n",
       "      <th>life_expec</th>\n",
       "      <td>0.425839</td>\n",
       "      <td>-0.222707</td>\n",
       "      <td>0.113919</td>\n",
       "    </tr>\n",
       "    <tr>\n",
       "      <th>total_fer</th>\n",
       "      <td>-0.403729</td>\n",
       "      <td>0.155233</td>\n",
       "      <td>0.019549</td>\n",
       "    </tr>\n",
       "    <tr>\n",
       "      <th>gdpp</th>\n",
       "      <td>0.392645</td>\n",
       "      <td>-0.046022</td>\n",
       "      <td>0.122977</td>\n",
       "    </tr>\n",
       "  </tbody>\n",
       "</table>\n",
       "</div>"
      ],
      "text/plain": [
       "                PC-1      PC-2      PC-3\n",
       "child_mort -0.419519  0.192884 -0.029544\n",
       "exports     0.283897  0.613163  0.144761\n",
       "health      0.150838 -0.243087 -0.596632\n",
       "imports     0.161482  0.671821 -0.299927\n",
       "income      0.398441  0.022536  0.301548\n",
       "inflation  -0.193173 -0.008404  0.642520\n",
       "life_expec  0.425839 -0.222707  0.113919\n",
       "total_fer  -0.403729  0.155233  0.019549\n",
       "gdpp        0.392645 -0.046022  0.122977"
      ]
     },
     "execution_count": 8,
     "metadata": {},
     "output_type": "execute_result"
    }
   ],
   "source": [
    "pca = PCA(n_components=3)\n",
    "df_scaled_pca = pca.fit_transform(df_scaled)\n",
    "\n",
    "pc_df = pd.DataFrame(pca.components_.T, columns=['PC-1', 'PC-2', 'PC-3'], index=df_scaled.columns)\n",
    "pc_df"
   ]
  },
  {
   "cell_type": "markdown",
   "metadata": {},
   "source": [
    "## K-Means\n",
    "\n",
    "Now, let's run K-Means on these principal features."
   ]
  },
  {
   "cell_type": "code",
   "execution_count": 9,
   "metadata": {
    "scrolled": true
   },
   "outputs": [
    {
     "name": "stdout",
     "output_type": "stream",
     "text": [
      "Silhouette score for 2 clusters: 0.3486469452367988\n",
      "Silhouette score for 3 clusters: 0.3286444233966678\n",
      "Silhouette score for 4 clusters: 0.29213683770424226\n",
      "Silhouette score for 5 clusters: 0.2902046922169579\n",
      "Silhouette score for 6 clusters: 0.3081536545724634\n",
      "Silhouette score for 7 clusters: 0.3123785288471923\n",
      "Silhouette score for 8 clusters: 0.3002388514462441\n",
      "Silhouette score for 9 clusters: 0.30285920334661626\n",
      "Silhouette score for 10 clusters: 0.2846506826032699\n",
      "Silhouette score for 11 clusters: 0.30137851401153054\n",
      "Silhouette score for 12 clusters: 0.2708131288946913\n",
      "Silhouette score for 13 clusters: 0.29778301811104274\n",
      "Silhouette score for 14 clusters: 0.28853283914689726\n"
     ]
    }
   ],
   "source": [
    "from sklearn.cluster import KMeans\n",
    "from sklearn.metrics import silhouette_score\n",
    "\n",
    "clusters = [ i for i in range(2, 15) ]\n",
    "\n",
    "for i in clusters:\n",
    "    kmeans = KMeans(n_clusters=i)\n",
    "    kmeans.fit(df_scaled_pca)\n",
    "    score = silhouette_score(df_scaled_pca, kmeans.predict(df_scaled_pca))\n",
    "    print(\"Silhouette score for {num} clusters: {score}\".format(num=i, score=score))"
   ]
  },
  {
   "cell_type": "markdown",
   "metadata": {},
   "source": [
    "Based on silhouette score, the optimal number of clusters is 3, so we use 3 clusters to train the model. "
   ]
  },
  {
   "cell_type": "code",
   "execution_count": 10,
   "metadata": {},
   "outputs": [
    {
     "data": {
      "text/plain": [
       "KMeans(n_clusters=3)"
      ]
     },
     "execution_count": 10,
     "metadata": {},
     "output_type": "execute_result"
    }
   ],
   "source": [
    "num_clusters = 3\n",
    "kmeans = KMeans(n_clusters=num_clusters)\n",
    "kmeans.fit(df_scaled_pca)"
   ]
  },
  {
   "cell_type": "markdown",
   "metadata": {},
   "source": [
    "Now, let's visualize the centers for these clusters."
   ]
  },
  {
   "cell_type": "code",
   "execution_count": 11,
   "metadata": {},
   "outputs": [
    {
     "data": {
      "text/html": [
       "<div>\n",
       "<style scoped>\n",
       "    .dataframe tbody tr th:only-of-type {\n",
       "        vertical-align: middle;\n",
       "    }\n",
       "\n",
       "    .dataframe tbody tr th {\n",
       "        vertical-align: top;\n",
       "    }\n",
       "\n",
       "    .dataframe thead th {\n",
       "        text-align: right;\n",
       "    }\n",
       "</style>\n",
       "<table border=\"1\" class=\"dataframe\">\n",
       "  <thead>\n",
       "    <tr style=\"text-align: right;\">\n",
       "      <th></th>\n",
       "      <th>child_mort</th>\n",
       "      <th>exports</th>\n",
       "      <th>health</th>\n",
       "      <th>imports</th>\n",
       "      <th>income</th>\n",
       "      <th>inflation</th>\n",
       "      <th>life_expec</th>\n",
       "      <th>total_fer</th>\n",
       "      <th>gdpp</th>\n",
       "    </tr>\n",
       "  </thead>\n",
       "  <tbody>\n",
       "    <tr>\n",
       "      <th>0</th>\n",
       "      <td>-6.496166</td>\n",
       "      <td>115.561818</td>\n",
       "      <td>4.739171</td>\n",
       "      <td>92.232914</td>\n",
       "      <td>53494.142126</td>\n",
       "      <td>8.221950</td>\n",
       "      <td>80.890653</td>\n",
       "      <td>1.305996</td>\n",
       "      <td>40125.413098</td>\n",
       "    </tr>\n",
       "    <tr>\n",
       "      <th>1</th>\n",
       "      <td>73.380032</td>\n",
       "      <td>31.073436</td>\n",
       "      <td>5.839068</td>\n",
       "      <td>44.369567</td>\n",
       "      <td>2317.769574</td>\n",
       "      <td>11.593313</td>\n",
       "      <td>62.611914</td>\n",
       "      <td>4.201168</td>\n",
       "      <td>-1253.154640</td>\n",
       "    </tr>\n",
       "    <tr>\n",
       "      <th>2</th>\n",
       "      <td>16.219148</td>\n",
       "      <td>41.246099</td>\n",
       "      <td>7.761231</td>\n",
       "      <td>44.260434</td>\n",
       "      <td>24712.304332</td>\n",
       "      <td>4.858035</td>\n",
       "      <td>75.524156</td>\n",
       "      <td>2.165296</td>\n",
       "      <td>20989.997751</td>\n",
       "    </tr>\n",
       "  </tbody>\n",
       "</table>\n",
       "</div>"
      ],
      "text/plain": [
       "   child_mort     exports    health    imports        income  inflation  \\\n",
       "0   -6.496166  115.561818  4.739171  92.232914  53494.142126   8.221950   \n",
       "1   73.380032   31.073436  5.839068  44.369567   2317.769574  11.593313   \n",
       "2   16.219148   41.246099  7.761231  44.260434  24712.304332   4.858035   \n",
       "\n",
       "   life_expec  total_fer          gdpp  \n",
       "0   80.890653   1.305996  40125.413098  \n",
       "1   62.611914   4.201168  -1253.154640  \n",
       "2   75.524156   2.165296  20989.997751  "
      ]
     },
     "execution_count": 11,
     "metadata": {},
     "output_type": "execute_result"
    }
   ],
   "source": [
    "inverse_array = pd.DataFrame(pca.inverse_transform(kmeans.cluster_centers_), columns=df.columns)\n",
    "inverse_center_df = pd.DataFrame(scaler.inverse_transform(inverse_array), columns=df.columns)\n",
    "inverse_center_df"
   ]
  },
  {
   "cell_type": "markdown",
   "metadata": {},
   "source": [
    "Using box plots, we can see where the cluster centers fit along the spread of the original data."
   ]
  },
  {
   "cell_type": "code",
   "execution_count": 12,
   "metadata": {},
   "outputs": [
    {
     "data": {
      "image/png": "[encoded data removed]",
      "text/plain": [
       "<Figure size 432x288 with 1 Axes>"
      ]
     },
     "metadata": {},
     "output_type": "display_data"
    },
    {
     "data": {
      "image/png": "[encoded data removed]",
      "text/plain": [
       "<Figure size 432x288 with 1 Axes>"
      ]
     },
     "metadata": {},
     "output_type": "display_data"
    },
    {
     "data": {
      "image/png": "[encoded data removed]",
      "text/plain": [
       "<Figure size 432x288 with 1 Axes>"
      ]
     },
     "metadata": {},
     "output_type": "display_data"
    },
    {
     "data": {
      "image/png": "[encoded data removed]",
      "text/plain": [
       "<Figure size 432x288 with 1 Axes>"
      ]
     },
     "metadata": {},
     "output_type": "display_data"
    },
    {
     "data": {
      "image/png": "[encoded data removed]",
      "text/plain": [
       "<Figure size 432x288 with 1 Axes>"
      ]
     },
     "metadata": {},
     "output_type": "display_data"
    },
    {
     "data": {
      "image/png": "[encoded data removed]",
      "text/plain": [
       "<Figure size 432x288 with 1 Axes>"
      ]
     },
     "metadata": {},
     "output_type": "display_data"
    },
    {
     "data": {
      "image/png": "[encoded data removed]",
      "text/plain": [
       "<Figure size 432x288 with 1 Axes>"
      ]
     },
     "metadata": {},
     "output_type": "display_data"
    },
    {
     "data": {
      "image/png": "[encoded data removed]",
      "text/plain": [
       "<Figure size 432x288 with 1 Axes>"
      ]
     },
     "metadata": {},
     "output_type": "display_data"
    },
    {
     "data": {
      "image/png": "[encoded data removed]",
      "text/plain": [
       "<Figure size 432x288 with 1 Axes>"
      ]
     },
     "metadata": {},
     "output_type": "display_data"
    }
   ],
   "source": [
    "colors = ['blue', 'red', 'green', 'orange', 'purple']\n",
    "\n",
    "for i in range (len(df.columns)):\n",
    "    label = df.columns[i]\n",
    "    row = i // 3\n",
    "    col = i % 3\n",
    "    plt.figure()\n",
    "    plt.title(label)\n",
    "    plt.boxplot(df[label])\n",
    "    for j in range(len(inverse_center_df)):\n",
    "        plt.scatter(1, inverse_center_df[label][j], color=colors[j])"
   ]
  },
  {
   "cell_type": "code",
   "execution_count": 13,
   "metadata": {},
   "outputs": [
    {
     "name": "stdout",
     "output_type": "stream",
     "text": [
      "Cluster 0 Occurences:  9 blue\n",
      "Cluster 1 Occurences:  68 red\n",
      "Cluster 2 Occurences:  90 green\n"
     ]
    }
   ],
   "source": [
    "val = kmeans.predict(df_scaled_pca)\n",
    "print(\"Cluster 0 Occurences: \", np.count_nonzero(val == 0), colors[0])\n",
    "print(\"Cluster 1 Occurences: \", np.count_nonzero(val == 1), colors[1])\n",
    "print(\"Cluster 2 Occurences: \", np.count_nonzero(val == 2), colors[2])"
   ]
  },
  {
   "cell_type": "markdown",
   "metadata": {},
   "source": [
    "### Analysis of Clusters\n",
    "\n",
    "The three clusters can be characterized as follows:\n",
    "\n",
    "- *about 90 nations:* these are characterized by generally higher income and GDP. Looking at the mean centers above relative to the box plot of the whole data set, nations that have higher income and GDP have higher life expectancy and lower child mortality rate.\n",
    "- *about 68 nations:* these are characterized by generally lower income and GDP. Looking at the mean centers above relative to the box plot of the whole data set, nations that have lower income, GDP, and imports/exports suffer from _severely_ higher child mortality rates and lower life expectancies. It appears that these nations do not have the economic means to increase quality of life and provide healthcare compared to the previous group.\n",
    "- *about 9 nations:* these nations are the richest of the rich nations, where they have extraordinarily high GDP and imports/export with low inflation. They are the outliers that have a lot of money per capita.\n",
    "\n",
    "Below are print outs of the countries that are members of each cluster:"
   ]
  },
  {
   "cell_type": "code",
   "execution_count": 14,
   "metadata": {},
   "outputs": [
    {
     "name": "stdout",
     "output_type": "stream",
     "text": [
      "Countries belonging to Cluster 0: (blue)\n",
      "Brunei\n",
      "Ireland\n",
      "Kuwait\n",
      "Luxembourg\n",
      "Malta\n",
      "Qatar\n",
      "Seychelles\n",
      "Singapore\n",
      "United Arab Emirates\n"
     ]
    }
   ],
   "source": [
    "print(\"Countries belonging to Cluster 0: (%s)\" % colors[0])\n",
    "for i in range(len(df_scaled_pca)):\n",
    "    if (val[i] == 0):\n",
    "        print(labels[i])"
   ]
  },
  {
   "cell_type": "code",
   "execution_count": 15,
   "metadata": {},
   "outputs": [
    {
     "name": "stdout",
     "output_type": "stream",
     "text": [
      "Countries belonging to Cluster 1: (red)\n",
      "Afghanistan\n",
      "Angola\n",
      "Bangladesh\n",
      "Benin\n",
      "Bolivia\n",
      "Botswana\n",
      "Burkina Faso\n",
      "Burundi\n",
      "Cambodia\n",
      "Cameroon\n",
      "Central African Republic\n",
      "Chad\n",
      "Comoros\n",
      "Congo, Dem. Rep.\n",
      "Congo, Rep.\n",
      "Cote d'Ivoire\n",
      "Egypt\n",
      "Equatorial Guinea\n",
      "Eritrea\n",
      "Fiji\n",
      "Gabon\n",
      "Gambia\n",
      "Ghana\n",
      "Guatemala\n",
      "Guinea\n",
      "Guinea-Bissau\n",
      "Guyana\n",
      "Haiti\n",
      "India\n",
      "Indonesia\n",
      "Iraq\n",
      "Kenya\n",
      "Kiribati\n",
      "Kyrgyz Republic\n",
      "Lao\n",
      "Lesotho\n",
      "Liberia\n",
      "Madagascar\n",
      "Malawi\n",
      "Mali\n",
      "Mauritania\n",
      "Mongolia\n",
      "Mozambique\n",
      "Myanmar\n",
      "Namibia\n",
      "Nepal\n",
      "Niger\n",
      "Nigeria\n",
      "Pakistan\n",
      "Philippines\n",
      "Rwanda\n",
      "Samoa\n",
      "Senegal\n",
      "Sierra Leone\n",
      "Solomon Islands\n",
      "South Africa\n",
      "Sudan\n",
      "Tajikistan\n",
      "Tanzania\n",
      "Timor-Leste\n",
      "Togo\n",
      "Tonga\n",
      "Turkmenistan\n",
      "Uganda\n",
      "Uzbekistan\n",
      "Vanuatu\n",
      "Yemen\n",
      "Zambia\n"
     ]
    }
   ],
   "source": [
    "print(\"Countries belonging to Cluster 1: (%s)\" % colors[1])\n",
    "for i in range(len(df_scaled_pca)):\n",
    "    if (val[i] == 1):\n",
    "        print(labels[i])"
   ]
  },
  {
   "cell_type": "code",
   "execution_count": 16,
   "metadata": {},
   "outputs": [
    {
     "name": "stdout",
     "output_type": "stream",
     "text": [
      "Countries belonging to Cluster 2: (green)\n",
      "Albania\n",
      "Algeria\n",
      "Antigua and Barbuda\n",
      "Argentina\n",
      "Armenia\n",
      "Australia\n",
      "Austria\n",
      "Azerbaijan\n",
      "Bahamas\n",
      "Bahrain\n",
      "Barbados\n",
      "Belarus\n",
      "Belgium\n",
      "Belize\n",
      "Bhutan\n",
      "Bosnia and Herzegovina\n",
      "Brazil\n",
      "Bulgaria\n",
      "Canada\n",
      "Cape Verde\n",
      "Chile\n",
      "China\n",
      "Colombia\n",
      "Costa Rica\n",
      "Croatia\n",
      "Cyprus\n",
      "Czech Republic\n",
      "Denmark\n",
      "Dominican Republic\n",
      "Ecuador\n",
      "El Salvador\n",
      "Estonia\n",
      "Finland\n",
      "France\n",
      "Georgia\n",
      "Germany\n",
      "Greece\n",
      "Grenada\n",
      "Hungary\n",
      "Iceland\n",
      "Iran\n",
      "Israel\n",
      "Italy\n",
      "Jamaica\n",
      "Japan\n",
      "Jordan\n",
      "Kazakhstan\n",
      "Latvia\n",
      "Lebanon\n",
      "Libya\n",
      "Lithuania\n",
      "Macedonia, FYR\n",
      "Malaysia\n",
      "Maldives\n",
      "Mauritius\n",
      "Micronesia, Fed. Sts.\n",
      "Moldova\n",
      "Montenegro\n",
      "Morocco\n",
      "Netherlands\n",
      "New Zealand\n",
      "Norway\n",
      "Oman\n",
      "Panama\n",
      "Paraguay\n",
      "Peru\n",
      "Poland\n",
      "Portugal\n",
      "Romania\n",
      "Russia\n",
      "Saudi Arabia\n",
      "Serbia\n",
      "Slovak Republic\n",
      "Slovenia\n",
      "South Korea\n",
      "Spain\n",
      "Sri Lanka\n",
      "St. Vincent and the Grenadines\n",
      "Suriname\n",
      "Sweden\n",
      "Switzerland\n",
      "Thailand\n",
      "Tunisia\n",
      "Turkey\n",
      "Ukraine\n",
      "United Kingdom\n",
      "United States\n",
      "Uruguay\n",
      "Venezuela\n",
      "Vietnam\n"
     ]
    }
   ],
   "source": [
    "print(\"Countries belonging to Cluster 2: (%s)\" % colors[2])\n",
    "for i in range(len(df_scaled_pca)):\n",
    "    if (val[i] == 2):\n",
    "        print(labels[i])"
   ]
  },
  {
   "cell_type": "markdown",
   "metadata": {},
   "source": [
    "### Analysis\n",
    "\n",
    "While 3 clusters produces the best grouping according to silhouette scores, we have to remember that our goal here is to identify those countries most in need of aid. 70 nations is likely more than one charity can handle. In order to break this down further, we have two options:\n",
    "1. Run K-Means on *only* those 70 nations. This should allow us to differentiate those most in need within that larger group.\n",
    "2. Choose a larger number of clusters. This should allow us to get a cluster center closest to those most in need.\n",
    "\n",
    "For this project, we decided to go with option #2."
   ]
  },
  {
   "cell_type": "markdown",
   "metadata": {},
   "source": [
    "## Kmeans (Again)\n",
    "\n",
    "Here we choose 10 clusters."
   ]
  },
  {
   "cell_type": "code",
   "execution_count": 17,
   "metadata": {},
   "outputs": [
    {
     "data": {
      "text/html": [
       "<div>\n",
       "<style scoped>\n",
       "    .dataframe tbody tr th:only-of-type {\n",
       "        vertical-align: middle;\n",
       "    }\n",
       "\n",
       "    .dataframe tbody tr th {\n",
       "        vertical-align: top;\n",
       "    }\n",
       "\n",
       "    .dataframe thead th {\n",
       "        text-align: right;\n",
       "    }\n",
       "</style>\n",
       "<table border=\"1\" class=\"dataframe\">\n",
       "  <thead>\n",
       "    <tr style=\"text-align: right;\">\n",
       "      <th></th>\n",
       "      <th>child_mort</th>\n",
       "      <th>exports</th>\n",
       "      <th>health</th>\n",
       "      <th>imports</th>\n",
       "      <th>income</th>\n",
       "      <th>inflation</th>\n",
       "      <th>life_expec</th>\n",
       "      <th>total_fer</th>\n",
       "      <th>gdpp</th>\n",
       "    </tr>\n",
       "  </thead>\n",
       "  <tbody>\n",
       "    <tr>\n",
       "      <th>0</th>\n",
       "      <td>25.102448</td>\n",
       "      <td>32.636388</td>\n",
       "      <td>8.015536</td>\n",
       "      <td>40.634994</td>\n",
       "      <td>18737.508023</td>\n",
       "      <td>4.520132</td>\n",
       "      <td>73.407586</td>\n",
       "      <td>2.477892</td>\n",
       "      <td>16356.959523</td>\n",
       "    </tr>\n",
       "    <tr>\n",
       "      <th>1</th>\n",
       "      <td>49.980923</td>\n",
       "      <td>25.604304</td>\n",
       "      <td>5.302637</td>\n",
       "      <td>25.483846</td>\n",
       "      <td>14104.242152</td>\n",
       "      <td>16.254550</td>\n",
       "      <td>68.777883</td>\n",
       "      <td>3.467885</td>\n",
       "      <td>7987.934116</td>\n",
       "    </tr>\n",
       "    <tr>\n",
       "      <th>2</th>\n",
       "      <td>53.766433</td>\n",
       "      <td>51.010786</td>\n",
       "      <td>6.248163</td>\n",
       "      <td>59.799222</td>\n",
       "      <td>12811.314368</td>\n",
       "      <td>7.850854</td>\n",
       "      <td>66.782719</td>\n",
       "      <td>3.458674</td>\n",
       "      <td>8255.060405</td>\n",
       "    </tr>\n",
       "    <tr>\n",
       "      <th>3</th>\n",
       "      <td>-11.953212</td>\n",
       "      <td>175.346849</td>\n",
       "      <td>5.108910</td>\n",
       "      <td>154.731883</td>\n",
       "      <td>62539.556572</td>\n",
       "      <td>-2.382373</td>\n",
       "      <td>80.658548</td>\n",
       "      <td>0.899812</td>\n",
       "      <td>48048.677805</td>\n",
       "    </tr>\n",
       "    <tr>\n",
       "      <th>4</th>\n",
       "      <td>14.163575</td>\n",
       "      <td>69.196357</td>\n",
       "      <td>7.591811</td>\n",
       "      <td>71.405663</td>\n",
       "      <td>29702.775563</td>\n",
       "      <td>1.402598</td>\n",
       "      <td>75.462901</td>\n",
       "      <td>2.009227</td>\n",
       "      <td>24783.732715</td>\n",
       "    </tr>\n",
       "    <tr>\n",
       "      <th>5</th>\n",
       "      <td>4.016052</td>\n",
       "      <td>70.287148</td>\n",
       "      <td>3.844967</td>\n",
       "      <td>43.438445</td>\n",
       "      <td>45448.001074</td>\n",
       "      <td>18.617053</td>\n",
       "      <td>79.796781</td>\n",
       "      <td>1.857132</td>\n",
       "      <td>32093.303066</td>\n",
       "    </tr>\n",
       "    <tr>\n",
       "      <th>6</th>\n",
       "      <td>68.158017</td>\n",
       "      <td>29.969315</td>\n",
       "      <td>9.644484</td>\n",
       "      <td>66.394693</td>\n",
       "      <td>-6424.526570</td>\n",
       "      <td>-4.954275</td>\n",
       "      <td>62.041040</td>\n",
       "      <td>3.838501</td>\n",
       "      <td>-2475.430829</td>\n",
       "    </tr>\n",
       "    <tr>\n",
       "      <th>7</th>\n",
       "      <td>89.810044</td>\n",
       "      <td>26.213440</td>\n",
       "      <td>5.842312</td>\n",
       "      <td>46.082058</td>\n",
       "      <td>-5976.647144</td>\n",
       "      <td>11.342112</td>\n",
       "      <td>58.670398</td>\n",
       "      <td>4.764889</td>\n",
       "      <td>-8309.390846</td>\n",
       "    </tr>\n",
       "    <tr>\n",
       "      <th>8</th>\n",
       "      <td>-14.521026</td>\n",
       "      <td>35.102038</td>\n",
       "      <td>9.333498</td>\n",
       "      <td>35.685598</td>\n",
       "      <td>33722.459597</td>\n",
       "      <td>0.627768</td>\n",
       "      <td>82.472440</td>\n",
       "      <td>1.083155</td>\n",
       "      <td>31323.460080</td>\n",
       "    </tr>\n",
       "    <tr>\n",
       "      <th>9</th>\n",
       "      <td>113.135933</td>\n",
       "      <td>25.586921</td>\n",
       "      <td>-5.134121</td>\n",
       "      <td>-18.021373</td>\n",
       "      <td>14899.844319</td>\n",
       "      <td>59.165484</td>\n",
       "      <td>58.367387</td>\n",
       "      <td>6.099284</td>\n",
       "      <td>-8469.785766</td>\n",
       "    </tr>\n",
       "  </tbody>\n",
       "</table>\n",
       "</div>"
      ],
      "text/plain": [
       "   child_mort     exports    health     imports        income  inflation  \\\n",
       "0   25.102448   32.636388  8.015536   40.634994  18737.508023   4.520132   \n",
       "1   49.980923   25.604304  5.302637   25.483846  14104.242152  16.254550   \n",
       "2   53.766433   51.010786  6.248163   59.799222  12811.314368   7.850854   \n",
       "3  -11.953212  175.346849  5.108910  154.731883  62539.556572  -2.382373   \n",
       "4   14.163575   69.196357  7.591811   71.405663  29702.775563   1.402598   \n",
       "5    4.016052   70.287148  3.844967   43.438445  45448.001074  18.617053   \n",
       "6   68.158017   29.969315  9.644484   66.394693  -6424.526570  -4.954275   \n",
       "7   89.810044   26.213440  5.842312   46.082058  -5976.647144  11.342112   \n",
       "8  -14.521026   35.102038  9.333498   35.685598  33722.459597   0.627768   \n",
       "9  113.135933   25.586921 -5.134121  -18.021373  14899.844319  59.165484   \n",
       "\n",
       "   life_expec  total_fer          gdpp  \n",
       "0   73.407586   2.477892  16356.959523  \n",
       "1   68.777883   3.467885   7987.934116  \n",
       "2   66.782719   3.458674   8255.060405  \n",
       "3   80.658548   0.899812  48048.677805  \n",
       "4   75.462901   2.009227  24783.732715  \n",
       "5   79.796781   1.857132  32093.303066  \n",
       "6   62.041040   3.838501  -2475.430829  \n",
       "7   58.670398   4.764889  -8309.390846  \n",
       "8   82.472440   1.083155  31323.460080  \n",
       "9   58.367387   6.099284  -8469.785766  "
      ]
     },
     "execution_count": 17,
     "metadata": {},
     "output_type": "execute_result"
    }
   ],
   "source": [
    "num_clusters = 10\n",
    "kmeans2 = KMeans(n_clusters=num_clusters)\n",
    "kmeans2.fit(df_scaled_pca)\n",
    "\n",
    "inverse_array = pd.DataFrame(pca.inverse_transform(kmeans2.cluster_centers_), columns=df.columns)\n",
    "inverse_center_df = pd.DataFrame(scaler.inverse_transform(inverse_array), columns=df.columns)\n",
    "inverse_center_df"
   ]
  },
  {
   "cell_type": "code",
   "execution_count": 18,
   "metadata": {},
   "outputs": [
    {
     "name": "stdout",
     "output_type": "stream",
     "text": [
      "Cluser 0 occurrences: 36\n",
      "Cluser 1 occurrences: 26\n",
      "Cluser 2 occurrences: 22\n",
      "Cluser 3 occurrences: 3\n",
      "Cluser 4 occurrences: 17\n",
      "Cluser 5 occurrences: 8\n",
      "Cluser 6 occurrences: 5\n",
      "Cluser 7 occurrences: 29\n",
      "Cluser 8 occurrences: 20\n",
      "Cluser 9 occurrences: 1\n"
     ]
    }
   ],
   "source": [
    "predictions = kmeans2.predict(df_scaled_pca)\n",
    "\n",
    "for i in range(num_clusters):\n",
    "    print(\"Cluser %d occurrences: %d\" % (i, np.count_nonzero(predictions == i)))"
   ]
  },
  {
   "cell_type": "markdown",
   "metadata": {},
   "source": [
    "### Analysis of Clusters\n",
    "\n",
    "From the cluster centers above, we can see that countries in cluster 7 and 9 seem to be the worst off (high child mortality, low income, low life expectancy, low gdpp). Let's print these countries."
   ]
  },
  {
   "cell_type": "code",
   "execution_count": 19,
   "metadata": {},
   "outputs": [
    {
     "name": "stdout",
     "output_type": "stream",
     "text": [
      "Countries belonging to Cluster 7:\n",
      "Afghanistan\n",
      "Angola\n",
      "Benin\n",
      "Burkina Faso\n",
      "Burundi\n",
      "Cameroon\n",
      "Central African Republic\n",
      "Chad\n",
      "Comoros\n",
      "Congo, Dem. Rep.\n",
      "Cote d'Ivoire\n",
      "Gambia\n",
      "Ghana\n",
      "Guinea\n",
      "Guinea-Bissau\n",
      "Haiti\n",
      "Kenya\n",
      "Madagascar\n",
      "Malawi\n",
      "Mali\n",
      "Mauritania\n",
      "Mozambique\n",
      "Niger\n",
      "Senegal\n",
      "Sierra Leone\n",
      "Tanzania\n",
      "Togo\n",
      "Uganda\n",
      "Zambia\n",
      "\n",
      "Countries belonging to Cluster 9:\n",
      "Nigeria\n"
     ]
    }
   ],
   "source": [
    "predictions = kmeans2.predict(df_scaled_pca)\n",
    "\n",
    "print(\"Countries belonging to Cluster 7:\")\n",
    "for i in range(len(df_scaled_pca)):\n",
    "    if (predictions[i] == 7):\n",
    "        print(labels[i])\n",
    "print()\n",
    "\n",
    "print(\"Countries belonging to Cluster 9:\")\n",
    "for i in range(len(df_scaled_pca)):\n",
    "    if (predictions[i] == 9):\n",
    "        print(labels[i])"
   ]
  },
  {
   "cell_type": "markdown",
   "metadata": {},
   "source": [
    "We have reduced the set of countries from 68 to 30. We could further reduce this by training on only these countries, as mentioned above, but this list should be sufficient for our non-profit to get started on delivering life-saving aid."
   ]
  }
 ],
 "metadata": {
  "kernelspec": {
   "display_name": "Python 3",
   "language": "python",
   "name": "python3"
  },
  "language_info": {
   "codemirror_mode": {
    "name": "ipython",
    "version": 3
   },
   "file_extension": ".py",
   "mimetype": "text/x-python",
   "name": "python",
   "nbconvert_exporter": "python",
   "pygments_lexer": "ipython3",
   "version": "3.8.8"
  }
 },
 "nbformat": 4,
 "nbformat_minor": 4
}
