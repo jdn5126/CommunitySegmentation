{
 "cells": [
  {
   "cell_type": "markdown",
   "id": "disciplinary-creation",
   "metadata": {},
   "source": [
    "### <p style=\"text-align: center;\">Community Segmentation</p>\n",
    "# <p style=\"text-align: center;\">Mall Customer Analysis</p>\n",
    "#### <p style=\"text-align: center;\">Jeffrey D Nelson and David N Campbell</p>"
   ]
  },
  {
   "cell_type": "markdown",
   "id": "meaningful-utilization",
   "metadata": {},
   "source": [
    "The purpose of this notebook is to use K-Means clustering to analyze different segments of Mall customers and determine what marketing strategy is best for each segment."
   ]
  },
  {
   "cell_type": "markdown",
   "id": "oriented-exercise",
   "metadata": {},
   "source": [
    "## Data Exploration"
   ]
  },
  {
   "cell_type": "code",
   "execution_count": 4,
   "id": "transparent-extreme",
   "metadata": {},
   "outputs": [
    {
     "data": {
      "text/html": [
       "<div>\n",
       "<style scoped>\n",
       "    .dataframe tbody tr th:only-of-type {\n",
       "        vertical-align: middle;\n",
       "    }\n",
       "\n",
       "    .dataframe tbody tr th {\n",
       "        vertical-align: top;\n",
       "    }\n",
       "\n",
       "    .dataframe thead th {\n",
       "        text-align: right;\n",
       "    }\n",
       "</style>\n",
       "<table border=\"1\" class=\"dataframe\">\n",
       "  <thead>\n",
       "    <tr style=\"text-align: right;\">\n",
       "      <th></th>\n",
       "      <th>CustomerID</th>\n",
       "      <th>Gender</th>\n",
       "      <th>Age</th>\n",
       "      <th>Annual Income (k$)</th>\n",
       "      <th>Spending Score (1-100)</th>\n",
       "    </tr>\n",
       "  </thead>\n",
       "  <tbody>\n",
       "    <tr>\n",
       "      <th>0</th>\n",
       "      <td>1</td>\n",
       "      <td>Male</td>\n",
       "      <td>19</td>\n",
       "      <td>15</td>\n",
       "      <td>39</td>\n",
       "    </tr>\n",
       "    <tr>\n",
       "      <th>1</th>\n",
       "      <td>2</td>\n",
       "      <td>Male</td>\n",
       "      <td>21</td>\n",
       "      <td>15</td>\n",
       "      <td>81</td>\n",
       "    </tr>\n",
       "    <tr>\n",
       "      <th>2</th>\n",
       "      <td>3</td>\n",
       "      <td>Female</td>\n",
       "      <td>20</td>\n",
       "      <td>16</td>\n",
       "      <td>6</td>\n",
       "    </tr>\n",
       "    <tr>\n",
       "      <th>3</th>\n",
       "      <td>4</td>\n",
       "      <td>Female</td>\n",
       "      <td>23</td>\n",
       "      <td>16</td>\n",
       "      <td>77</td>\n",
       "    </tr>\n",
       "    <tr>\n",
       "      <th>4</th>\n",
       "      <td>5</td>\n",
       "      <td>Female</td>\n",
       "      <td>31</td>\n",
       "      <td>17</td>\n",
       "      <td>40</td>\n",
       "    </tr>\n",
       "  </tbody>\n",
       "</table>\n",
       "</div>"
      ],
      "text/plain": [
       "   CustomerID  Gender  Age  Annual Income (k$)  Spending Score (1-100)\n",
       "0           1    Male   19                  15                      39\n",
       "1           2    Male   21                  15                      81\n",
       "2           3  Female   20                  16                       6\n",
       "3           4  Female   23                  16                      77\n",
       "4           5  Female   31                  17                      40"
      ]
     },
     "execution_count": 4,
     "metadata": {},
     "output_type": "execute_result"
    }
   ],
   "source": [
    "import matplotlib.pyplot as plt\n",
    "import numpy as np\n",
    "import pandas as pd\n",
    "\n",
    "df = pd.read_csv(r'data/Mall_Customers.csv')\n",
    "df.head()"
   ]
  },
  {
   "cell_type": "code",
   "execution_count": 3,
   "id": "recreational-sleep",
   "metadata": {},
   "outputs": [
    {
     "data": {
      "text/html": [
       "<div>\n",
       "<style scoped>\n",
       "    .dataframe tbody tr th:only-of-type {\n",
       "        vertical-align: middle;\n",
       "    }\n",
       "\n",
       "    .dataframe tbody tr th {\n",
       "        vertical-align: top;\n",
       "    }\n",
       "\n",
       "    .dataframe thead th {\n",
       "        text-align: right;\n",
       "    }\n",
       "</style>\n",
       "<table border=\"1\" class=\"dataframe\">\n",
       "  <thead>\n",
       "    <tr style=\"text-align: right;\">\n",
       "      <th></th>\n",
       "      <th>CustomerID</th>\n",
       "      <th>Age</th>\n",
       "      <th>Annual Income (k$)</th>\n",
       "      <th>Spending Score (1-100)</th>\n",
       "    </tr>\n",
       "  </thead>\n",
       "  <tbody>\n",
       "    <tr>\n",
       "      <th>count</th>\n",
       "      <td>200.000000</td>\n",
       "      <td>200.000000</td>\n",
       "      <td>200.000000</td>\n",
       "      <td>200.000000</td>\n",
       "    </tr>\n",
       "    <tr>\n",
       "      <th>mean</th>\n",
       "      <td>100.500000</td>\n",
       "      <td>38.850000</td>\n",
       "      <td>60.560000</td>\n",
       "      <td>50.200000</td>\n",
       "    </tr>\n",
       "    <tr>\n",
       "      <th>std</th>\n",
       "      <td>57.879185</td>\n",
       "      <td>13.969007</td>\n",
       "      <td>26.264721</td>\n",
       "      <td>25.823522</td>\n",
       "    </tr>\n",
       "    <tr>\n",
       "      <th>min</th>\n",
       "      <td>1.000000</td>\n",
       "      <td>18.000000</td>\n",
       "      <td>15.000000</td>\n",
       "      <td>1.000000</td>\n",
       "    </tr>\n",
       "    <tr>\n",
       "      <th>25%</th>\n",
       "      <td>50.750000</td>\n",
       "      <td>28.750000</td>\n",
       "      <td>41.500000</td>\n",
       "      <td>34.750000</td>\n",
       "    </tr>\n",
       "    <tr>\n",
       "      <th>50%</th>\n",
       "      <td>100.500000</td>\n",
       "      <td>36.000000</td>\n",
       "      <td>61.500000</td>\n",
       "      <td>50.000000</td>\n",
       "    </tr>\n",
       "    <tr>\n",
       "      <th>75%</th>\n",
       "      <td>150.250000</td>\n",
       "      <td>49.000000</td>\n",
       "      <td>78.000000</td>\n",
       "      <td>73.000000</td>\n",
       "    </tr>\n",
       "    <tr>\n",
       "      <th>max</th>\n",
       "      <td>200.000000</td>\n",
       "      <td>70.000000</td>\n",
       "      <td>137.000000</td>\n",
       "      <td>99.000000</td>\n",
       "    </tr>\n",
       "  </tbody>\n",
       "</table>\n",
       "</div>"
      ],
      "text/plain": [
       "       CustomerID         Age  Annual Income (k$)  Spending Score (1-100)\n",
       "count  200.000000  200.000000          200.000000              200.000000\n",
       "mean   100.500000   38.850000           60.560000               50.200000\n",
       "std     57.879185   13.969007           26.264721               25.823522\n",
       "min      1.000000   18.000000           15.000000                1.000000\n",
       "25%     50.750000   28.750000           41.500000               34.750000\n",
       "50%    100.500000   36.000000           61.500000               50.000000\n",
       "75%    150.250000   49.000000           78.000000               73.000000\n",
       "max    200.000000   70.000000          137.000000               99.000000"
      ]
     },
     "execution_count": 3,
     "metadata": {},
     "output_type": "execute_result"
    }
   ],
   "source": [
    "df.describe()"
   ]
  },
  {
   "cell_type": "markdown",
   "id": "alone-fabric",
   "metadata": {},
   "source": [
    "As we can see, there are four relevant features:\n",
    "1. Gender: customer gender identity\n",
    "2. Age: customer age in number of years\n",
    "3. Annual Income: customer yearly income measured in thousands of dollars\n",
    "4. Spending Score: score assigned by mall based on behavior and nature of spending"
   ]
  },
  {
   "cell_type": "markdown",
   "id": "boolean-malaysia",
   "metadata": {},
   "source": [
    "Since the number of features is small, we can avoid performing Principal Component Analysis on this data set. Before we can do K-Means, though, we need to explore the relationships between these features."
   ]
  },
  {
   "cell_type": "markdown",
   "id": "organized-treasure",
   "metadata": {},
   "source": [
    "### Feature Relationships"
   ]
  },
  {
   "cell_type": "code",
   "execution_count": 21,
   "id": "raising-simon",
   "metadata": {},
   "outputs": [
    {
     "data": {
      "text/plain": [
       "Text(0, 0.5, 'Spending Score')"
      ]
     },
     "execution_count": 21,
     "metadata": {},
     "output_type": "execute_result"
    },
    {
     "data": {
      "image/png": "[encoded data removed]",
      "text/plain": [
       "<Figure size 432x288 with 2 Axes>"
      ]
     },
     "metadata": {
      "needs_background": "light"
     },
     "output_type": "display_data"
    }
   ],
   "source": [
    "# Age vs others\n",
    "# num rows, num columns, current index\n",
    "\n",
    "plt.subplot(211)\n",
    "plt.scatter(df['Age'], df['Annual Income (k$)'])\n",
    "plt.xlabel('Age')\n",
    "plt.ylabel('Annual Income (in k$)')\n",
    "\n",
    "plt.subplot(212)\n",
    "plt.scatter(df['Age'], df['Spending Score (1-100)'])\n",
    "plt.ylabel('Spending Score')"
   ]
  },
  {
   "cell_type": "code",
   "execution_count": 24,
   "id": "known-mailing",
   "metadata": {},
   "outputs": [
    {
     "data": {
      "text/plain": [
       "Text(0, 0.5, 'Annual Income (k$)')"
      ]
     },
     "execution_count": 24,
     "metadata": {},
     "output_type": "execute_result"
    },
    {
     "data": {
      "image/png": "[encoded data removed]",
      "text/plain": [
       "<Figure size 432x288 with 1 Axes>"
      ]
     },
     "metadata": {
      "needs_background": "light"
     },
     "output_type": "display_data"
    }
   ],
   "source": [
    "plt.clf()\n",
    "plt.scatter(df['Spending Score (1-100)'], df['Annual Income (k$)'])\n",
    "plt.xlabel('Spending Score')\n",
    "plt.ylabel('Annual Income (k$)')"
   ]
  },
  {
   "cell_type": "markdown",
   "id": "solid-affair",
   "metadata": {},
   "source": [
    "## K-Means"
   ]
  },
  {
   "cell_type": "markdown",
   "id": "divine-pride",
   "metadata": {},
   "source": [
    "Do k-means using just spending score and annual income."
   ]
  },
  {
   "cell_type": "code",
   "execution_count": 26,
   "id": "arranged-worthy",
   "metadata": {},
   "outputs": [
    {
     "data": {
      "text/plain": [
       "KMeans(n_clusters=5)"
      ]
     },
     "execution_count": 26,
     "metadata": {},
     "output_type": "execute_result"
    }
   ],
   "source": [
    "from sklearn.cluster import KMeans\n",
    "\n",
    "X = df[['Spending Score (1-100)' , 'Annual Income (k$)']].iloc[: , :].values\n",
    "\n",
    "# hard-code for now to visualize\n",
    "kmeans = KMeans(n_clusters=5)\n",
    "kmeans.fit(X)"
   ]
  },
  {
   "cell_type": "code",
   "execution_count": 28,
   "id": "legal-semester",
   "metadata": {},
   "outputs": [
    {
     "data": {
      "text/plain": [
       "array([[17.11428571, 88.2       ],\n",
       "       [79.36363636, 25.72727273],\n",
       "       [49.51851852, 55.2962963 ],\n",
       "       [82.12820513, 86.53846154],\n",
       "       [20.91304348, 26.30434783]])"
      ]
     },
     "execution_count": 28,
     "metadata": {},
     "output_type": "execute_result"
    }
   ],
   "source": [
    "kmeans.cluster_centers_"
   ]
  },
  {
   "cell_type": "code",
   "execution_count": 32,
   "id": "present-junior",
   "metadata": {},
   "outputs": [
    {
     "data": {
      "text/plain": [
       "Text(0, 0.5, 'Annual Income (k$)')"
      ]
     },
     "execution_count": 32,
     "metadata": {},
     "output_type": "execute_result"
    },
    {
     "data": {
      "text/plain": [
       "<Figure size 432x288 with 0 Axes>"
      ]
     },
     "metadata": {},
     "output_type": "display_data"
    },
    {
     "data": {
      "image/png": "[encoded data removed]",
      "text/plain": [
       "<Figure size 432x288 with 1 Axes>"
      ]
     },
     "metadata": {
      "needs_background": "light"
     },
     "output_type": "display_data"
    }
   ],
   "source": [
    "plt.clf()\n",
    "fig = plt.figure()\n",
    "ax = plt.gca()\n",
    "ax.scatter(df['Spending Score (1-100)'], df['Annual Income (k$)'], color='red')\n",
    "ax.scatter(kmeans.cluster_centers_[:, 0], kmeans.cluster_centers_[:, 1], color='blue')\n",
    "plt.xlabel('Spending Score')\n",
    "plt.ylabel('Annual Income (k$)')"
   ]
  },
  {
   "cell_type": "markdown",
   "id": "alternate-talent",
   "metadata": {},
   "source": [
    "No hard-coding, let's get the silhouette score."
   ]
  },
  {
   "cell_type": "code",
   "execution_count": 45,
   "id": "cathedral-shift",
   "metadata": {},
   "outputs": [
    {
     "name": "stdout",
     "output_type": "stream",
     "text": [
      "Silhouette score for 2 clusters: 0.2968969162503008\n",
      "Silhouette score for 3 clusters: 0.46761358158775435\n",
      "Silhouette score for 4 clusters: 0.4931963109249047\n",
      "Silhouette score for 5 clusters: 0.553931997444648\n",
      "Silhouette score for 6 clusters: 0.5379675585622219\n",
      "Silhouette score for 7 clusters: 0.5264283703685728\n",
      "Silhouette score for 8 clusters: 0.4563394686110682\n",
      "Silhouette score for 9 clusters: 0.4553729779390266\n"
     ]
    }
   ],
   "source": [
    "silhouette_scores = []\n",
    "clusters = [ i for i in range(2, 10) ]\n",
    "\n",
    "for i in clusters:\n",
    "    kmeans = KMeans(n_clusters=i)\n",
    "    kmeans.fit(X)\n",
    "    score = silhouette_score(X, kmeans.predict(X))\n",
    "    print(\"Silhouette score for {num} clusters: {score}\".format(num=i, score=score))\n",
    "    silhouette_scores.append(score)"
   ]
  },
  {
   "cell_type": "code",
   "execution_count": 50,
   "id": "dramatic-primary",
   "metadata": {},
   "outputs": [
    {
     "data": {
      "text/plain": [
       "Text(0, 0.5, 'Number of Clusters')"
      ]
     },
     "execution_count": 50,
     "metadata": {},
     "output_type": "execute_result"
    },
    {
     "data": {
      "image/png": "[encoded data removed]",
      "text/plain": [
       "<Figure size 432x288 with 1 Axes>"
      ]
     },
     "metadata": {
      "needs_background": "light"
     },
     "output_type": "display_data"
    }
   ],
   "source": [
    "# Plot silhouette score\n",
    "plt.figure()\n",
    "plt.barh(clusters, silhouette_scores)\n",
    "plt.xlabel('Silhouette Score')\n",
    "plt.ylabel('Number of Clusters')"
   ]
  },
  {
   "cell_type": "markdown",
   "id": "distinguished-revolution",
   "metadata": {},
   "source": [
    "Clearly five clusters is the best for these attributes."
   ]
  },
  {
   "cell_type": "code",
   "execution_count": 52,
   "id": "streaming-provincial",
   "metadata": {},
   "outputs": [
    {
     "data": {
      "text/plain": [
       "<Figure size 432x288 with 0 Axes>"
      ]
     },
     "metadata": {},
     "output_type": "display_data"
    },
    {
     "data": {
      "image/png": "[encoded data removed]",
      "text/plain": [
       "<Figure size 432x288 with 1 Axes>"
      ]
     },
     "metadata": {
      "needs_background": "light"
     },
     "output_type": "display_data"
    }
   ],
   "source": [
    "# Plot Gender vs other attributes\n",
    "plt.clf()\n",
    "fig = plt.figure()\n",
    "ax = plt.gca()\n",
    "for gender in ['Male' , 'Female']:\n",
    "    ax.scatter(x='Age', y='Annual Income (k$)', data=df[df['Gender'] == gender], label=gender)"
   ]
  },
  {
   "cell_type": "code",
   "execution_count": 53,
   "id": "progressive-leadership",
   "metadata": {},
   "outputs": [
    {
     "name": "stdout",
     "output_type": "stream",
     "text": [
      "Silhouette score for 2 clusters: 0.293166070535953\n",
      "Silhouette score for 3 clusters: 0.3839349967742105\n",
      "Silhouette score for 4 clusters: 0.40546302077733304\n",
      "Silhouette score for 5 clusters: 0.44045315045641703\n",
      "Silhouette score for 6 clusters: 0.4523443947724053\n",
      "Silhouette score for 7 clusters: 0.44125523526699084\n",
      "Silhouette score for 8 clusters: 0.42977587111050725\n",
      "Silhouette score for 9 clusters: 0.411203806978027\n"
     ]
    }
   ],
   "source": [
    "X = df[['Spending Score (1-100)' , 'Annual Income (k$)', 'Age']].iloc[: , :].values\n",
    "\n",
    "silhouette_scores = []\n",
    "clusters = [ i for i in range(2, 10) ]\n",
    "\n",
    "for i in clusters:\n",
    "    kmeans = KMeans(n_clusters=i)\n",
    "    kmeans.fit(X)\n",
    "    score = silhouette_score(X, kmeans.predict(X))\n",
    "    print(\"Silhouette score for {num} clusters: {score}\".format(num=i, score=score))\n",
    "    silhouette_scores.append(score)"
   ]
  },
  {
   "cell_type": "code",
   "execution_count": 54,
   "id": "provincial-diagnosis",
   "metadata": {},
   "outputs": [
    {
     "data": {
      "text/plain": [
       "Text(0, 0.5, 'Number of Clusters')"
      ]
     },
     "execution_count": 54,
     "metadata": {},
     "output_type": "execute_result"
    },
    {
     "data": {
      "image/png": "[encoded data removed]",
      "text/plain": [
       "<Figure size 432x288 with 1 Axes>"
      ]
     },
     "metadata": {
      "needs_background": "light"
     },
     "output_type": "display_data"
    }
   ],
   "source": [
    "# Plot silhouette score\n",
    "plt.figure()\n",
    "plt.barh(clusters, silhouette_scores)\n",
    "plt.xlabel('Silhouette Score')\n",
    "plt.ylabel('Number of Clusters')"
   ]
  },
  {
   "cell_type": "markdown",
   "id": "excited-cutting",
   "metadata": {},
   "source": [
    "## Explain what to market to which groups"
   ]
  },
  {
   "cell_type": "code",
   "execution_count": null,
   "id": "framed-sample",
   "metadata": {},
   "outputs": [],
   "source": []
  }
 ],
 "metadata": {
  "kernelspec": {
   "display_name": "Python 3",
   "language": "python",
   "name": "python3"
  },
  "language_info": {
   "codemirror_mode": {
    "name": "ipython",
    "version": 3
   },
   "file_extension": ".py",
   "mimetype": "text/x-python",
   "name": "python",
   "nbconvert_exporter": "python",
   "pygments_lexer": "ipython3",
   "version": "3.8.8"
  }
 },
 "nbformat": 4,
 "nbformat_minor": 5
}
