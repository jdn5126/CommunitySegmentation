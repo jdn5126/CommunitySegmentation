{
 "cells": [
  {
   "cell_type": "markdown",
   "id": "disciplinary-creation",
   "metadata": {},
   "source": [
    "### <p style=\"text-align: center;\">Community Segmentation</p>\n",
    "# <p style=\"text-align: center;\">Mall Customer Analysis</p>\n",
    "#### <p style=\"text-align: center;\">Jeffrey D Nelson and David N Campbell</p>"
   ]
  },
  {
   "cell_type": "markdown",
   "id": "meaningful-utilization",
   "metadata": {},
   "source": [
    "The purpose of this notebook is to use K-Means clustering to analyze different segments of Mall customers and determine what marketing strategy is best for each segment."
   ]
  },
  {
   "cell_type": "markdown",
   "id": "oriented-exercise",
   "metadata": {},
   "source": [
    "## Data Exploration"
   ]
  },
  {
   "cell_type": "code",
   "execution_count": 1,
   "id": "transparent-extreme",
   "metadata": {},
   "outputs": [
    {
     "data": {
      "text/html": [
       "<div>\n",
       "<style scoped>\n",
       "    .dataframe tbody tr th:only-of-type {\n",
       "        vertical-align: middle;\n",
       "    }\n",
       "\n",
       "    .dataframe tbody tr th {\n",
       "        vertical-align: top;\n",
       "    }\n",
       "\n",
       "    .dataframe thead th {\n",
       "        text-align: right;\n",
       "    }\n",
       "</style>\n",
       "<table border=\"1\" class=\"dataframe\">\n",
       "  <thead>\n",
       "    <tr style=\"text-align: right;\">\n",
       "      <th></th>\n",
       "      <th>CustomerID</th>\n",
       "      <th>Gender</th>\n",
       "      <th>Age</th>\n",
       "      <th>Annual Income (k$)</th>\n",
       "      <th>Spending Score (1-100)</th>\n",
       "    </tr>\n",
       "  </thead>\n",
       "  <tbody>\n",
       "    <tr>\n",
       "      <th>0</th>\n",
       "      <td>1</td>\n",
       "      <td>Male</td>\n",
       "      <td>19</td>\n",
       "      <td>15</td>\n",
       "      <td>39</td>\n",
       "    </tr>\n",
       "    <tr>\n",
       "      <th>1</th>\n",
       "      <td>2</td>\n",
       "      <td>Male</td>\n",
       "      <td>21</td>\n",
       "      <td>15</td>\n",
       "      <td>81</td>\n",
       "    </tr>\n",
       "    <tr>\n",
       "      <th>2</th>\n",
       "      <td>3</td>\n",
       "      <td>Female</td>\n",
       "      <td>20</td>\n",
       "      <td>16</td>\n",
       "      <td>6</td>\n",
       "    </tr>\n",
       "    <tr>\n",
       "      <th>3</th>\n",
       "      <td>4</td>\n",
       "      <td>Female</td>\n",
       "      <td>23</td>\n",
       "      <td>16</td>\n",
       "      <td>77</td>\n",
       "    </tr>\n",
       "    <tr>\n",
       "      <th>4</th>\n",
       "      <td>5</td>\n",
       "      <td>Female</td>\n",
       "      <td>31</td>\n",
       "      <td>17</td>\n",
       "      <td>40</td>\n",
       "    </tr>\n",
       "  </tbody>\n",
       "</table>\n",
       "</div>"
      ],
      "text/plain": [
       "   CustomerID  Gender  Age  Annual Income (k$)  Spending Score (1-100)\n",
       "0           1    Male   19                  15                      39\n",
       "1           2    Male   21                  15                      81\n",
       "2           3  Female   20                  16                       6\n",
       "3           4  Female   23                  16                      77\n",
       "4           5  Female   31                  17                      40"
      ]
     },
     "execution_count": 1,
     "metadata": {},
     "output_type": "execute_result"
    }
   ],
   "source": [
    "import matplotlib.pyplot as plt\n",
    "import numpy as np\n",
    "import pandas as pd\n",
    "\n",
    "df = pd.read_csv(r'data/Mall_Customers.csv')\n",
    "df.head()"
   ]
  },
  {
   "cell_type": "code",
   "execution_count": 2,
   "id": "recreational-sleep",
   "metadata": {},
   "outputs": [
    {
     "data": {
      "text/html": [
       "<div>\n",
       "<style scoped>\n",
       "    .dataframe tbody tr th:only-of-type {\n",
       "        vertical-align: middle;\n",
       "    }\n",
       "\n",
       "    .dataframe tbody tr th {\n",
       "        vertical-align: top;\n",
       "    }\n",
       "\n",
       "    .dataframe thead th {\n",
       "        text-align: right;\n",
       "    }\n",
       "</style>\n",
       "<table border=\"1\" class=\"dataframe\">\n",
       "  <thead>\n",
       "    <tr style=\"text-align: right;\">\n",
       "      <th></th>\n",
       "      <th>CustomerID</th>\n",
       "      <th>Age</th>\n",
       "      <th>Annual Income (k$)</th>\n",
       "      <th>Spending Score (1-100)</th>\n",
       "    </tr>\n",
       "  </thead>\n",
       "  <tbody>\n",
       "    <tr>\n",
       "      <th>count</th>\n",
       "      <td>200.000000</td>\n",
       "      <td>200.000000</td>\n",
       "      <td>200.000000</td>\n",
       "      <td>200.000000</td>\n",
       "    </tr>\n",
       "    <tr>\n",
       "      <th>mean</th>\n",
       "      <td>100.500000</td>\n",
       "      <td>38.850000</td>\n",
       "      <td>60.560000</td>\n",
       "      <td>50.200000</td>\n",
       "    </tr>\n",
       "    <tr>\n",
       "      <th>std</th>\n",
       "      <td>57.879185</td>\n",
       "      <td>13.969007</td>\n",
       "      <td>26.264721</td>\n",
       "      <td>25.823522</td>\n",
       "    </tr>\n",
       "    <tr>\n",
       "      <th>min</th>\n",
       "      <td>1.000000</td>\n",
       "      <td>18.000000</td>\n",
       "      <td>15.000000</td>\n",
       "      <td>1.000000</td>\n",
       "    </tr>\n",
       "    <tr>\n",
       "      <th>25%</th>\n",
       "      <td>50.750000</td>\n",
       "      <td>28.750000</td>\n",
       "      <td>41.500000</td>\n",
       "      <td>34.750000</td>\n",
       "    </tr>\n",
       "    <tr>\n",
       "      <th>50%</th>\n",
       "      <td>100.500000</td>\n",
       "      <td>36.000000</td>\n",
       "      <td>61.500000</td>\n",
       "      <td>50.000000</td>\n",
       "    </tr>\n",
       "    <tr>\n",
       "      <th>75%</th>\n",
       "      <td>150.250000</td>\n",
       "      <td>49.000000</td>\n",
       "      <td>78.000000</td>\n",
       "      <td>73.000000</td>\n",
       "    </tr>\n",
       "    <tr>\n",
       "      <th>max</th>\n",
       "      <td>200.000000</td>\n",
       "      <td>70.000000</td>\n",
       "      <td>137.000000</td>\n",
       "      <td>99.000000</td>\n",
       "    </tr>\n",
       "  </tbody>\n",
       "</table>\n",
       "</div>"
      ],
      "text/plain": [
       "       CustomerID         Age  Annual Income (k$)  Spending Score (1-100)\n",
       "count  200.000000  200.000000          200.000000              200.000000\n",
       "mean   100.500000   38.850000           60.560000               50.200000\n",
       "std     57.879185   13.969007           26.264721               25.823522\n",
       "min      1.000000   18.000000           15.000000                1.000000\n",
       "25%     50.750000   28.750000           41.500000               34.750000\n",
       "50%    100.500000   36.000000           61.500000               50.000000\n",
       "75%    150.250000   49.000000           78.000000               73.000000\n",
       "max    200.000000   70.000000          137.000000               99.000000"
      ]
     },
     "execution_count": 2,
     "metadata": {},
     "output_type": "execute_result"
    }
   ],
   "source": [
    "df.describe()"
   ]
  },
  {
   "cell_type": "markdown",
   "id": "alone-fabric",
   "metadata": {},
   "source": [
    "As we can see, there are four relevant features:\n",
    "1. Gender: customer gender identity\n",
    "2. Age: customer age in number of years\n",
    "3. Annual Income: customer yearly income measured in thousands of dollars\n",
    "4. Spending Score: score assigned by mall based on behavior and nature of spending"
   ]
  },
  {
   "cell_type": "markdown",
   "id": "boolean-malaysia",
   "metadata": {},
   "source": [
    "Since the number of features is small, we can avoid performing Principal Component Analysis on this data set. Before we can do K-Means, though, we need to explore the relationships between these features."
   ]
  },
  {
   "cell_type": "markdown",
   "id": "organized-treasure",
   "metadata": {},
   "source": [
    "### Feature Relationships"
   ]
  },
  {
   "cell_type": "markdown",
   "id": "lined-measurement",
   "metadata": {},
   "source": [
    "First, let's compare Gender Identity to other features to determine if there is any correlation."
   ]
  },
  {
   "cell_type": "code",
   "execution_count": 3,
   "id": "streaming-provincial",
   "metadata": {},
   "outputs": [
    {
     "data": {
      "text/plain": [
       "<matplotlib.legend.Legend at 0x137669dc0>"
      ]
     },
     "execution_count": 3,
     "metadata": {},
     "output_type": "execute_result"
    },
    {
     "data": {
      "text/plain": [
       "<Figure size 432x288 with 0 Axes>"
      ]
     },
     "metadata": {},
     "output_type": "display_data"
    },
    {
     "data": {
      "image/png": "[encoded data removed]",
      "text/plain": [
       "<Figure size 432x288 with 1 Axes>"
      ]
     },
     "metadata": {
      "needs_background": "light"
     },
     "output_type": "display_data"
    }
   ],
   "source": [
    "# Plot Gender vs Annual Income and Age\n",
    "\n",
    "plt.clf()\n",
    "fig = plt.figure()\n",
    "ax = plt.gca()\n",
    "for gender in ['Male' , 'Female']:\n",
    "    ax.scatter(x='Age', y='Annual Income (k$)', data=df[df['Gender'] == gender], label=gender)\n",
    "plt.xlabel('Age')\n",
    "plt.ylabel('Annual Income')\n",
    "plt.legend()"
   ]
  },
  {
   "cell_type": "code",
   "execution_count": 4,
   "id": "characteristic-efficiency",
   "metadata": {},
   "outputs": [
    {
     "name": "stdout",
     "output_type": "stream",
     "text": [
      "Male Spending Score\n",
      "count    88.000000\n",
      "mean     48.511364\n",
      "std      27.896770\n",
      "min       1.000000\n",
      "25%      24.500000\n",
      "50%      50.000000\n",
      "75%      70.000000\n",
      "max      97.000000\n",
      "Name: Spending Score (1-100), dtype: float64\n",
      "\n",
      "Female Spending Score\n",
      "count    112.000000\n",
      "mean      51.526786\n",
      "std       24.114950\n",
      "min        5.000000\n",
      "25%       35.000000\n",
      "50%       50.000000\n",
      "75%       73.000000\n",
      "max       99.000000\n",
      "Name: Spending Score (1-100), dtype: float64\n"
     ]
    }
   ],
   "source": [
    "male_spending_score = df[df['Gender'] == 'Male']['Spending Score (1-100)']\n",
    "print('Male Spending Score')\n",
    "print(male_spending_score.describe())\n",
    "print()\n",
    "\n",
    "print('Female Spending Score')\n",
    "female_spending_score = df[df['Gender'] == 'Female']['Spending Score (1-100)']\n",
    "print(female_spending_score.describe())"
   ]
  },
  {
   "cell_type": "markdown",
   "id": "spread-makeup",
   "metadata": {},
   "source": [
    "#### Analysis\n",
    "\n",
    "Clearly, Gender Identity does not provide much in the way of differentiation. Therefore, we decided to omit it from future training in this model."
   ]
  },
  {
   "cell_type": "code",
   "execution_count": 5,
   "id": "raising-simon",
   "metadata": {},
   "outputs": [
    {
     "data": {
      "text/plain": [
       "Text(0.5, 0, 'Age')"
      ]
     },
     "execution_count": 5,
     "metadata": {},
     "output_type": "execute_result"
    },
    {
     "data": {
      "image/png": "[encoded data removed]",
      "text/plain": [
       "<Figure size 432x288 with 2 Axes>"
      ]
     },
     "metadata": {
      "needs_background": "light"
     },
     "output_type": "display_data"
    }
   ],
   "source": [
    "# Age vs Annual Income, Age vs Spending Score\n",
    "\n",
    "plt.subplot(211)\n",
    "plt.scatter(df['Age'], df['Annual Income (k$)'])\n",
    "plt.ylabel('Annual Income (in k$)')\n",
    "\n",
    "plt.subplot(212)\n",
    "plt.scatter(df['Age'], df['Spending Score (1-100)'])\n",
    "plt.ylabel('Spending Score')\n",
    "plt.xlabel('Age')"
   ]
  },
  {
   "cell_type": "markdown",
   "id": "expected-determination",
   "metadata": {},
   "source": [
    "Age is not very highly correlated with Annual Income or Spending Score. Let's compare Annual Income to Spending Score."
   ]
  },
  {
   "cell_type": "code",
   "execution_count": 6,
   "id": "known-mailing",
   "metadata": {},
   "outputs": [
    {
     "data": {
      "text/plain": [
       "Text(0, 0.5, 'Annual Income (k$)')"
      ]
     },
     "execution_count": 6,
     "metadata": {},
     "output_type": "execute_result"
    },
    {
     "data": {
      "image/png": "[encoded data removed]",
      "text/plain": [
       "<Figure size 432x288 with 1 Axes>"
      ]
     },
     "metadata": {
      "needs_background": "light"
     },
     "output_type": "display_data"
    }
   ],
   "source": [
    "# Annual Income vs Spending Score\n",
    "\n",
    "plt.clf()\n",
    "plt.scatter(df['Spending Score (1-100)'], df['Annual Income (k$)'])\n",
    "plt.xlabel('Spending Score')\n",
    "plt.ylabel('Annual Income (k$)')"
   ]
  },
  {
   "cell_type": "markdown",
   "id": "aboriginal-reach",
   "metadata": {},
   "source": [
    "#### Analysis\n",
    "\n",
    "Annual Income and Spending Score result in a strong grouping on their own. Let's use K-Means to cluster this relationship and see what information we can derive."
   ]
  },
  {
   "cell_type": "markdown",
   "id": "solid-affair",
   "metadata": {},
   "source": [
    "## K-Means"
   ]
  },
  {
   "cell_type": "code",
   "execution_count": 7,
   "id": "arranged-worthy",
   "metadata": {},
   "outputs": [],
   "source": [
    "from sklearn.cluster import KMeans\n",
    "\n",
    "columns = ['Spending Score (1-100)', 'Annual Income (k$)']\n",
    "X = df[columns].iloc[: , :].values"
   ]
  },
  {
   "cell_type": "markdown",
   "id": "pharmaceutical-captain",
   "metadata": {},
   "source": [
    "Visually, five clusters seems like the optimal number of this two-dimensional data set. Let's confirm this using silhouette scores, though."
   ]
  },
  {
   "cell_type": "code",
   "execution_count": 8,
   "id": "cathedral-shift",
   "metadata": {},
   "outputs": [
    {
     "name": "stdout",
     "output_type": "stream",
     "text": [
      "Silhouette score for 2 clusters: 0.2968969162503008\n",
      "Silhouette score for 3 clusters: 0.46761358158775435\n",
      "Silhouette score for 4 clusters: 0.4931963109249047\n",
      "Silhouette score for 5 clusters: 0.553931997444648\n",
      "Silhouette score for 6 clusters: 0.53976103063432\n",
      "Silhouette score for 7 clusters: 0.5264283703685728\n",
      "Silhouette score for 8 clusters: 0.4564394045323282\n",
      "Silhouette score for 9 clusters: 0.4565077334305076\n"
     ]
    }
   ],
   "source": [
    "from sklearn.metrics import silhouette_score\n",
    "\n",
    "silhouette_scores = []\n",
    "clusters = [ i for i in range(2, 10) ]\n",
    "\n",
    "for i in clusters:\n",
    "    kmeans = KMeans(n_clusters=i)\n",
    "    kmeans.fit(X)\n",
    "    score = silhouette_score(X, kmeans.predict(X))\n",
    "    print(\"Silhouette score for {num} clusters: {score}\".format(num=i, score=score))\n",
    "    silhouette_scores.append(score)"
   ]
  },
  {
   "cell_type": "code",
   "execution_count": 9,
   "id": "dramatic-primary",
   "metadata": {},
   "outputs": [
    {
     "data": {
      "text/plain": [
       "Text(0, 0.5, 'Number of Clusters')"
      ]
     },
     "execution_count": 9,
     "metadata": {},
     "output_type": "execute_result"
    },
    {
     "data": {
      "image/png": "[encoded data removed]",
      "text/plain": [
       "<Figure size 432x288 with 1 Axes>"
      ]
     },
     "metadata": {
      "needs_background": "light"
     },
     "output_type": "display_data"
    }
   ],
   "source": [
    "# Plot silhouette score\n",
    "plt.figure()\n",
    "plt.barh(clusters, silhouette_scores)\n",
    "plt.xlabel('Silhouette Score')\n",
    "plt.ylabel('Number of Clusters')"
   ]
  },
  {
   "cell_type": "markdown",
   "id": "alternate-camcorder",
   "metadata": {},
   "source": [
    "Five clusters is clearly the optimal number for these features. Let's create a model and visualize the cluster centers."
   ]
  },
  {
   "cell_type": "code",
   "execution_count": 10,
   "id": "legal-semester",
   "metadata": {},
   "outputs": [
    {
     "data": {
      "text/plain": [
       "KMeans(n_clusters=5)"
      ]
     },
     "execution_count": 10,
     "metadata": {},
     "output_type": "execute_result"
    }
   ],
   "source": [
    "kmeans = KMeans(n_clusters=5)\n",
    "kmeans.fit(X)"
   ]
  },
  {
   "cell_type": "code",
   "execution_count": 11,
   "id": "present-junior",
   "metadata": {},
   "outputs": [
    {
     "data": {
      "text/plain": [
       "Text(0, 0.5, 'Annual Income (k$)')"
      ]
     },
     "execution_count": 11,
     "metadata": {},
     "output_type": "execute_result"
    },
    {
     "data": {
      "text/plain": [
       "<Figure size 432x288 with 0 Axes>"
      ]
     },
     "metadata": {},
     "output_type": "display_data"
    },
    {
     "data": {
      "image/png": "[encoded data removed]",
      "text/plain": [
       "<Figure size 432x288 with 1 Axes>"
      ]
     },
     "metadata": {
      "needs_background": "light"
     },
     "output_type": "display_data"
    }
   ],
   "source": [
    "plt.clf()\n",
    "fig = plt.figure()\n",
    "ax = plt.gca()\n",
    "ax.scatter(df['Spending Score (1-100)'], df['Annual Income (k$)'], color='red')\n",
    "ax.scatter(kmeans.cluster_centers_[:, 0], kmeans.cluster_centers_[:, 1], color='blue')\n",
    "plt.xlabel('Spending Score')\n",
    "plt.ylabel('Annual Income (k$)')"
   ]
  },
  {
   "cell_type": "code",
   "execution_count": 12,
   "id": "environmental-sugar",
   "metadata": {},
   "outputs": [
    {
     "data": {
      "text/html": [
       "<div>\n",
       "<style scoped>\n",
       "    .dataframe tbody tr th:only-of-type {\n",
       "        vertical-align: middle;\n",
       "    }\n",
       "\n",
       "    .dataframe tbody tr th {\n",
       "        vertical-align: top;\n",
       "    }\n",
       "\n",
       "    .dataframe thead th {\n",
       "        text-align: right;\n",
       "    }\n",
       "</style>\n",
       "<table border=\"1\" class=\"dataframe\">\n",
       "  <thead>\n",
       "    <tr style=\"text-align: right;\">\n",
       "      <th></th>\n",
       "      <th>Spending Score (1-100)</th>\n",
       "      <th>Annual Income (k$)</th>\n",
       "    </tr>\n",
       "  </thead>\n",
       "  <tbody>\n",
       "    <tr>\n",
       "      <th>0</th>\n",
       "      <td>49.518519</td>\n",
       "      <td>55.296296</td>\n",
       "    </tr>\n",
       "    <tr>\n",
       "      <th>1</th>\n",
       "      <td>82.128205</td>\n",
       "      <td>86.538462</td>\n",
       "    </tr>\n",
       "    <tr>\n",
       "      <th>2</th>\n",
       "      <td>79.363636</td>\n",
       "      <td>25.727273</td>\n",
       "    </tr>\n",
       "    <tr>\n",
       "      <th>3</th>\n",
       "      <td>20.913043</td>\n",
       "      <td>26.304348</td>\n",
       "    </tr>\n",
       "    <tr>\n",
       "      <th>4</th>\n",
       "      <td>17.114286</td>\n",
       "      <td>88.200000</td>\n",
       "    </tr>\n",
       "  </tbody>\n",
       "</table>\n",
       "</div>"
      ],
      "text/plain": [
       "   Spending Score (1-100)  Annual Income (k$)\n",
       "0               49.518519           55.296296\n",
       "1               82.128205           86.538462\n",
       "2               79.363636           25.727273\n",
       "3               20.913043           26.304348\n",
       "4               17.114286           88.200000"
      ]
     },
     "execution_count": 12,
     "metadata": {},
     "output_type": "execute_result"
    }
   ],
   "source": [
    "df_centers = pd.DataFrame(kmeans.cluster_centers_, columns=columns)\n",
    "df_centers"
   ]
  },
  {
   "cell_type": "code",
   "execution_count": 13,
   "id": "consecutive-investigation",
   "metadata": {},
   "outputs": [
    {
     "name": "stdout",
     "output_type": "stream",
     "text": [
      "Individuals in cluster 0: 81\n",
      "Individuals in cluster 1: 39\n",
      "Individuals in cluster 2: 22\n",
      "Individuals in cluster 3: 23\n",
      "Individuals in cluster 4: 35\n"
     ]
    }
   ],
   "source": [
    "# Show number of individuals in each group:\n",
    "groups = [0 for i in range(5)]\n",
    "predictions = kmeans.predict(X)\n",
    "for p in predictions:\n",
    "    groups[p] += 1\n",
    "    \n",
    "for i, g in enumerate(groups):\n",
    "    print(\"Individuals in cluster %d: %d\" % (i, g))"
   ]
  },
  {
   "cell_type": "markdown",
   "id": "typical-karaoke",
   "metadata": {},
   "source": [
    "#### Analysis\n",
    "\n",
    "Before we characterize these groups, let's run K-Means with Age and see what type of clusters we form."
   ]
  },
  {
   "cell_type": "markdown",
   "id": "marine-liability",
   "metadata": {},
   "source": [
    "### K-Means (Again)"
   ]
  },
  {
   "cell_type": "code",
   "execution_count": 14,
   "id": "progressive-leadership",
   "metadata": {},
   "outputs": [
    {
     "name": "stdout",
     "output_type": "stream",
     "text": [
      "Silhouette score for 2 clusters: 0.293166070535953\n",
      "Silhouette score for 3 clusters: 0.3839349967742105\n",
      "Silhouette score for 4 clusters: 0.40546302077733304\n",
      "Silhouette score for 5 clusters: 0.44446409171786105\n",
      "Silhouette score for 6 clusters: 0.4523443947724053\n",
      "Silhouette score for 7 clusters: 0.43509714214250295\n",
      "Silhouette score for 8 clusters: 0.42790288922594905\n",
      "Silhouette score for 9 clusters: 0.41197801912451715\n"
     ]
    }
   ],
   "source": [
    "columns = ['Spending Score (1-100)' , 'Annual Income (k$)', 'Age']\n",
    "\n",
    "X = df[columns].iloc[: , :].values\n",
    "clusters = [ i for i in range(2, 10) ]\n",
    "\n",
    "for i in clusters:\n",
    "    kmeans = KMeans(n_clusters=i)\n",
    "    kmeans.fit(X)\n",
    "    score = silhouette_score(X, kmeans.predict(X))\n",
    "    print(\"Silhouette score for {num} clusters: {score}\".format(num=i, score=score))"
   ]
  },
  {
   "cell_type": "markdown",
   "id": "opposed-burlington",
   "metadata": {},
   "source": [
    "The clustering here is not as tight as it was above. Let's print the cluster centers for the optimal number of groups, 6. "
   ]
  },
  {
   "cell_type": "code",
   "execution_count": 15,
   "id": "meaningful-vietnamese",
   "metadata": {},
   "outputs": [
    {
     "data": {
      "text/html": [
       "<div>\n",
       "<style scoped>\n",
       "    .dataframe tbody tr th:only-of-type {\n",
       "        vertical-align: middle;\n",
       "    }\n",
       "\n",
       "    .dataframe tbody tr th {\n",
       "        vertical-align: top;\n",
       "    }\n",
       "\n",
       "    .dataframe thead th {\n",
       "        text-align: right;\n",
       "    }\n",
       "</style>\n",
       "<table border=\"1\" class=\"dataframe\">\n",
       "  <thead>\n",
       "    <tr style=\"text-align: right;\">\n",
       "      <th></th>\n",
       "      <th>Spending Score (1-100)</th>\n",
       "      <th>Annual Income (k$)</th>\n",
       "      <th>Age</th>\n",
       "    </tr>\n",
       "  </thead>\n",
       "  <tbody>\n",
       "    <tr>\n",
       "      <th>0</th>\n",
       "      <td>17.285714</td>\n",
       "      <td>88.228571</td>\n",
       "      <td>41.685714</td>\n",
       "    </tr>\n",
       "    <tr>\n",
       "      <th>1</th>\n",
       "      <td>49.088889</td>\n",
       "      <td>53.377778</td>\n",
       "      <td>56.155556</td>\n",
       "    </tr>\n",
       "    <tr>\n",
       "      <th>2</th>\n",
       "      <td>49.131579</td>\n",
       "      <td>56.657895</td>\n",
       "      <td>27.000000</td>\n",
       "    </tr>\n",
       "    <tr>\n",
       "      <th>3</th>\n",
       "      <td>79.363636</td>\n",
       "      <td>25.727273</td>\n",
       "      <td>25.272727</td>\n",
       "    </tr>\n",
       "    <tr>\n",
       "      <th>4</th>\n",
       "      <td>19.523810</td>\n",
       "      <td>25.142857</td>\n",
       "      <td>44.142857</td>\n",
       "    </tr>\n",
       "    <tr>\n",
       "      <th>5</th>\n",
       "      <td>82.128205</td>\n",
       "      <td>86.538462</td>\n",
       "      <td>32.692308</td>\n",
       "    </tr>\n",
       "  </tbody>\n",
       "</table>\n",
       "</div>"
      ],
      "text/plain": [
       "   Spending Score (1-100)  Annual Income (k$)        Age\n",
       "0               17.285714           88.228571  41.685714\n",
       "1               49.088889           53.377778  56.155556\n",
       "2               49.131579           56.657895  27.000000\n",
       "3               79.363636           25.727273  25.272727\n",
       "4               19.523810           25.142857  44.142857\n",
       "5               82.128205           86.538462  32.692308"
      ]
     },
     "execution_count": 15,
     "metadata": {},
     "output_type": "execute_result"
    }
   ],
   "source": [
    "kmeans = KMeans(n_clusters=6)\n",
    "kmeans.fit(X)\n",
    "\n",
    "df_centers = pd.DataFrame(kmeans.cluster_centers_, columns=columns)\n",
    "df_centers"
   ]
  },
  {
   "cell_type": "code",
   "execution_count": 16,
   "id": "cross-corps",
   "metadata": {},
   "outputs": [
    {
     "name": "stdout",
     "output_type": "stream",
     "text": [
      "Individuals in cluster 0: 35\n",
      "Individuals in cluster 1: 45\n",
      "Individuals in cluster 2: 38\n",
      "Individuals in cluster 3: 22\n",
      "Individuals in cluster 4: 21\n",
      "Individuals in cluster 5: 39\n"
     ]
    }
   ],
   "source": [
    "# Show number of individuals in each group:\n",
    "groups = [0 for i in range(6)]\n",
    "predictions = kmeans.predict(X)\n",
    "for p in predictions:\n",
    "    groups[p] += 1\n",
    "\n",
    "for i, g in enumerate(groups):\n",
    "    print(\"Individuals in cluster %d: %d\" % (i, g))"
   ]
  },
  {
   "cell_type": "markdown",
   "id": "excited-cutting",
   "metadata": {},
   "source": [
    "## Marketing Analysis"
   ]
  },
  {
   "cell_type": "markdown",
   "id": "blocked-deviation",
   "metadata": {},
   "source": [
    "From our two models, it is clear that the strongest grouping is with respect to Annual Income and Spending Score. This creates the following clusters:\n",
    "1. Those with low income and low spending score.\n",
    "2. Those with low income and high spending score.\n",
    "3. Those with medium income and medium spending score.\n",
    "4. Those with high income and low spending score.\n",
    "5. Those with high income and high spending score.\n",
    "\n",
    "The largest cluster is the group with medium income and medium spending score.\n",
    "\n",
    "Age does not really add much to the clustering. However, it may be that some products sell better to different age groups or gender identities. Therefore, we would recommend the following to our marketing department:\n",
    "* To those with high income and high spending score, market occasionally. They are highly likely to purchase even\n",
    "  without marketing, and they can afford the items.\n",
    "* To those with low income and low spending score, do not waste resources marketing to.\n",
    "* To those with medium to high income and medium to low spending score, we need a more targeted strategy,     \n",
    "  especially since this is the largest group:\n",
    "  - Market aggressively with a focus on products that sell.\n",
    "  - If a product is known to sell well to a specific gender identity or age group, push it hardest in this cluster\n",
    "    as the payoff is largest. The high spending score group will probably already buy it without much marketing."
   ]
  }
 ],
 "metadata": {
  "kernelspec": {
   "display_name": "Python 3",
   "language": "python",
   "name": "python3"
  },
  "language_info": {
   "codemirror_mode": {
    "name": "ipython",
    "version": 3
   },
   "file_extension": ".py",
   "mimetype": "text/x-python",
   "name": "python",
   "nbconvert_exporter": "python",
   "pygments_lexer": "ipython3",
   "version": "3.8.8"
  }
 },
 "nbformat": 4,
 "nbformat_minor": 5
}
