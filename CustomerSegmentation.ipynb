{
 "cells": [
  {
   "cell_type": "markdown",
   "id": "disciplinary-creation",
   "metadata": {},
   "source": [
    "# Customer Segmentation\n",
    "\n",
    "The goal for this notebook is to use k-means to explore clusters within customers of a Mall."
   ]
  },
  {
   "cell_type": "code",
   "execution_count": 1,
   "id": "transparent-extreme",
   "metadata": {},
   "outputs": [],
   "source": [
    "import matplotlib.pyplot as plt\n",
    "import numpy as np\n",
    "import pandas as pd"
   ]
  },
  {
   "cell_type": "markdown",
   "id": "liable-insulin",
   "metadata": {},
   "source": [
    "1. Explore Data\n",
    "2. Visualize relationships\n",
    "3. Search for ideal k-means clustering\n",
    "4. Analyze clusters\n",
    "5. Visualize results"
   ]
  },
  {
   "cell_type": "code",
   "execution_count": null,
   "id": "known-mailing",
   "metadata": {},
   "outputs": [],
   "source": []
  }
 ],
 "metadata": {
  "kernelspec": {
   "display_name": "Python 3",
   "language": "python",
   "name": "python3"
  },
  "language_info": {
   "codemirror_mode": {
    "name": "ipython",
    "version": 3
   },
   "file_extension": ".py",
   "mimetype": "text/x-python",
   "name": "python",
   "nbconvert_exporter": "python",
   "pygments_lexer": "ipython3",
   "version": "3.8.8"
  }
 },
 "nbformat": 4,
 "nbformat_minor": 5
}
