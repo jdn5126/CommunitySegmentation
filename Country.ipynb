{
 "cells": [
  {
   "cell_type": "markdown",
   "metadata": {},
   "source": [
    "### <p style=\"text-align: center;\">Community Segmentation</p>\n",
    "# <p style=\"text-align: center;\">Country Clustering</p>\n",
    "#### <p style=\"text-align: center;\">Jeffrey D Nelson and David N Campbell</p>"
   ]
  },
  {
   "cell_type": "code",
   "execution_count": 1,
   "metadata": {},
   "outputs": [
    {
     "data": {
      "text/html": [
       "<div>\n",
       "<style scoped>\n",
       "    .dataframe tbody tr th:only-of-type {\n",
       "        vertical-align: middle;\n",
       "    }\n",
       "\n",
       "    .dataframe tbody tr th {\n",
       "        vertical-align: top;\n",
       "    }\n",
       "\n",
       "    .dataframe thead th {\n",
       "        text-align: right;\n",
       "    }\n",
       "</style>\n",
       "<table border=\"1\" class=\"dataframe\">\n",
       "  <thead>\n",
       "    <tr style=\"text-align: right;\">\n",
       "      <th></th>\n",
       "      <th>country</th>\n",
       "      <th>child_mort</th>\n",
       "      <th>exports</th>\n",
       "      <th>health</th>\n",
       "      <th>imports</th>\n",
       "      <th>income</th>\n",
       "      <th>inflation</th>\n",
       "      <th>life_expec</th>\n",
       "      <th>total_fer</th>\n",
       "      <th>gdpp</th>\n",
       "    </tr>\n",
       "  </thead>\n",
       "  <tbody>\n",
       "    <tr>\n",
       "      <th>0</th>\n",
       "      <td>Afghanistan</td>\n",
       "      <td>90.2</td>\n",
       "      <td>10.0</td>\n",
       "      <td>7.58</td>\n",
       "      <td>44.9</td>\n",
       "      <td>1610</td>\n",
       "      <td>9.44</td>\n",
       "      <td>56.2</td>\n",
       "      <td>5.82</td>\n",
       "      <td>553</td>\n",
       "    </tr>\n",
       "    <tr>\n",
       "      <th>1</th>\n",
       "      <td>Albania</td>\n",
       "      <td>16.6</td>\n",
       "      <td>28.0</td>\n",
       "      <td>6.55</td>\n",
       "      <td>48.6</td>\n",
       "      <td>9930</td>\n",
       "      <td>4.49</td>\n",
       "      <td>76.3</td>\n",
       "      <td>1.65</td>\n",
       "      <td>4090</td>\n",
       "    </tr>\n",
       "    <tr>\n",
       "      <th>2</th>\n",
       "      <td>Algeria</td>\n",
       "      <td>27.3</td>\n",
       "      <td>38.4</td>\n",
       "      <td>4.17</td>\n",
       "      <td>31.4</td>\n",
       "      <td>12900</td>\n",
       "      <td>16.10</td>\n",
       "      <td>76.5</td>\n",
       "      <td>2.89</td>\n",
       "      <td>4460</td>\n",
       "    </tr>\n",
       "    <tr>\n",
       "      <th>3</th>\n",
       "      <td>Angola</td>\n",
       "      <td>119.0</td>\n",
       "      <td>62.3</td>\n",
       "      <td>2.85</td>\n",
       "      <td>42.9</td>\n",
       "      <td>5900</td>\n",
       "      <td>22.40</td>\n",
       "      <td>60.1</td>\n",
       "      <td>6.16</td>\n",
       "      <td>3530</td>\n",
       "    </tr>\n",
       "    <tr>\n",
       "      <th>4</th>\n",
       "      <td>Antigua and Barbuda</td>\n",
       "      <td>10.3</td>\n",
       "      <td>45.5</td>\n",
       "      <td>6.03</td>\n",
       "      <td>58.9</td>\n",
       "      <td>19100</td>\n",
       "      <td>1.44</td>\n",
       "      <td>76.8</td>\n",
       "      <td>2.13</td>\n",
       "      <td>12200</td>\n",
       "    </tr>\n",
       "  </tbody>\n",
       "</table>\n",
       "</div>"
      ],
      "text/plain": [
       "               country  child_mort  exports  health  imports  income  \\\n",
       "0          Afghanistan        90.2     10.0    7.58     44.9    1610   \n",
       "1              Albania        16.6     28.0    6.55     48.6    9930   \n",
       "2              Algeria        27.3     38.4    4.17     31.4   12900   \n",
       "3               Angola       119.0     62.3    2.85     42.9    5900   \n",
       "4  Antigua and Barbuda        10.3     45.5    6.03     58.9   19100   \n",
       "\n",
       "   inflation  life_expec  total_fer   gdpp  \n",
       "0       9.44        56.2       5.82    553  \n",
       "1       4.49        76.3       1.65   4090  \n",
       "2      16.10        76.5       2.89   4460  \n",
       "3      22.40        60.1       6.16   3530  \n",
       "4       1.44        76.8       2.13  12200  "
      ]
     },
     "execution_count": 1,
     "metadata": {},
     "output_type": "execute_result"
    }
   ],
   "source": [
    "import matplotlib.pyplot as plt\n",
    "import numpy as np\n",
    "import pandas as pd\n",
    "import seaborn as sns\n",
    "\n",
    "# Set seaborn defaults\n",
    "sns.set()\n",
    "\n",
    "df = pd.read_csv(r'data/country-data.csv')\n",
    "df.head()"
   ]
  },
  {
   "cell_type": "code",
   "execution_count": 2,
   "metadata": {},
   "outputs": [
    {
     "data": {
      "text/html": [
       "<div>\n",
       "<style scoped>\n",
       "    .dataframe tbody tr th:only-of-type {\n",
       "        vertical-align: middle;\n",
       "    }\n",
       "\n",
       "    .dataframe tbody tr th {\n",
       "        vertical-align: top;\n",
       "    }\n",
       "\n",
       "    .dataframe thead th {\n",
       "        text-align: right;\n",
       "    }\n",
       "</style>\n",
       "<table border=\"1\" class=\"dataframe\">\n",
       "  <thead>\n",
       "    <tr style=\"text-align: right;\">\n",
       "      <th></th>\n",
       "      <th>child_mort</th>\n",
       "      <th>exports</th>\n",
       "      <th>health</th>\n",
       "      <th>imports</th>\n",
       "      <th>income</th>\n",
       "      <th>inflation</th>\n",
       "      <th>life_expec</th>\n",
       "      <th>total_fer</th>\n",
       "      <th>gdpp</th>\n",
       "    </tr>\n",
       "  </thead>\n",
       "  <tbody>\n",
       "    <tr>\n",
       "      <th>count</th>\n",
       "      <td>167.000000</td>\n",
       "      <td>167.000000</td>\n",
       "      <td>167.000000</td>\n",
       "      <td>167.000000</td>\n",
       "      <td>167.000000</td>\n",
       "      <td>167.000000</td>\n",
       "      <td>167.000000</td>\n",
       "      <td>167.000000</td>\n",
       "      <td>167.000000</td>\n",
       "    </tr>\n",
       "    <tr>\n",
       "      <th>mean</th>\n",
       "      <td>38.270060</td>\n",
       "      <td>41.108976</td>\n",
       "      <td>6.815689</td>\n",
       "      <td>46.890215</td>\n",
       "      <td>17144.688623</td>\n",
       "      <td>7.781832</td>\n",
       "      <td>70.555689</td>\n",
       "      <td>2.947964</td>\n",
       "      <td>12964.155689</td>\n",
       "    </tr>\n",
       "    <tr>\n",
       "      <th>std</th>\n",
       "      <td>40.328931</td>\n",
       "      <td>27.412010</td>\n",
       "      <td>2.746837</td>\n",
       "      <td>24.209589</td>\n",
       "      <td>19278.067698</td>\n",
       "      <td>10.570704</td>\n",
       "      <td>8.893172</td>\n",
       "      <td>1.513848</td>\n",
       "      <td>18328.704809</td>\n",
       "    </tr>\n",
       "    <tr>\n",
       "      <th>min</th>\n",
       "      <td>2.600000</td>\n",
       "      <td>0.109000</td>\n",
       "      <td>1.810000</td>\n",
       "      <td>0.065900</td>\n",
       "      <td>609.000000</td>\n",
       "      <td>-4.210000</td>\n",
       "      <td>32.100000</td>\n",
       "      <td>1.150000</td>\n",
       "      <td>231.000000</td>\n",
       "    </tr>\n",
       "    <tr>\n",
       "      <th>25%</th>\n",
       "      <td>8.250000</td>\n",
       "      <td>23.800000</td>\n",
       "      <td>4.920000</td>\n",
       "      <td>30.200000</td>\n",
       "      <td>3355.000000</td>\n",
       "      <td>1.810000</td>\n",
       "      <td>65.300000</td>\n",
       "      <td>1.795000</td>\n",
       "      <td>1330.000000</td>\n",
       "    </tr>\n",
       "    <tr>\n",
       "      <th>50%</th>\n",
       "      <td>19.300000</td>\n",
       "      <td>35.000000</td>\n",
       "      <td>6.320000</td>\n",
       "      <td>43.300000</td>\n",
       "      <td>9960.000000</td>\n",
       "      <td>5.390000</td>\n",
       "      <td>73.100000</td>\n",
       "      <td>2.410000</td>\n",
       "      <td>4660.000000</td>\n",
       "    </tr>\n",
       "    <tr>\n",
       "      <th>75%</th>\n",
       "      <td>62.100000</td>\n",
       "      <td>51.350000</td>\n",
       "      <td>8.600000</td>\n",
       "      <td>58.750000</td>\n",
       "      <td>22800.000000</td>\n",
       "      <td>10.750000</td>\n",
       "      <td>76.800000</td>\n",
       "      <td>3.880000</td>\n",
       "      <td>14050.000000</td>\n",
       "    </tr>\n",
       "    <tr>\n",
       "      <th>max</th>\n",
       "      <td>208.000000</td>\n",
       "      <td>200.000000</td>\n",
       "      <td>17.900000</td>\n",
       "      <td>174.000000</td>\n",
       "      <td>125000.000000</td>\n",
       "      <td>104.000000</td>\n",
       "      <td>82.800000</td>\n",
       "      <td>7.490000</td>\n",
       "      <td>105000.000000</td>\n",
       "    </tr>\n",
       "  </tbody>\n",
       "</table>\n",
       "</div>"
      ],
      "text/plain": [
       "       child_mort     exports      health     imports         income  \\\n",
       "count  167.000000  167.000000  167.000000  167.000000     167.000000   \n",
       "mean    38.270060   41.108976    6.815689   46.890215   17144.688623   \n",
       "std     40.328931   27.412010    2.746837   24.209589   19278.067698   \n",
       "min      2.600000    0.109000    1.810000    0.065900     609.000000   \n",
       "25%      8.250000   23.800000    4.920000   30.200000    3355.000000   \n",
       "50%     19.300000   35.000000    6.320000   43.300000    9960.000000   \n",
       "75%     62.100000   51.350000    8.600000   58.750000   22800.000000   \n",
       "max    208.000000  200.000000   17.900000  174.000000  125000.000000   \n",
       "\n",
       "        inflation  life_expec   total_fer           gdpp  \n",
       "count  167.000000  167.000000  167.000000     167.000000  \n",
       "mean     7.781832   70.555689    2.947964   12964.155689  \n",
       "std     10.570704    8.893172    1.513848   18328.704809  \n",
       "min     -4.210000   32.100000    1.150000     231.000000  \n",
       "25%      1.810000   65.300000    1.795000    1330.000000  \n",
       "50%      5.390000   73.100000    2.410000    4660.000000  \n",
       "75%     10.750000   76.800000    3.880000   14050.000000  \n",
       "max    104.000000   82.800000    7.490000  105000.000000  "
      ]
     },
     "execution_count": 2,
     "metadata": {},
     "output_type": "execute_result"
    }
   ],
   "source": [
    "df.describe()"
   ]
  },
  {
   "cell_type": "markdown",
   "metadata": {},
   "source": [
    "## Data Preprocessing\n",
    "\n",
    "Before we can train any models, we must preprocess the data. First, we handle non-numeric features."
   ]
  },
  {
   "cell_type": "markdown",
   "metadata": {},
   "source": [
    "In this case, there is only one non-numeric feature, `country`. This was found using `df.select_dtypes(exclude=np.number).columns`. This feature is irrelevant, so we just drop it."
   ]
  },
  {
   "cell_type": "code",
   "execution_count": 3,
   "metadata": {},
   "outputs": [],
   "source": [
    "labels = df['country']\n",
    "df = df.drop(columns=['country'])"
   ]
  },
  {
   "cell_type": "markdown",
   "metadata": {},
   "source": [
    "Luckily, in this dataset there are no missing values, so there is no need to substitute or guess the missing data! "
   ]
  },
  {
   "cell_type": "markdown",
   "metadata": {},
   "source": [
    "### Scaling\n",
    "\n",
    "After a few iterations, we realized that our clustering was performing poorly due to outliers in the dataset.  To scale this dataset we just used a standard scaler."
   ]
  },
  {
   "cell_type": "code",
   "execution_count": 4,
   "metadata": {},
   "outputs": [],
   "source": [
    "from sklearn.preprocessing import StandardScaler\n",
    "scaler = StandardScaler()\n",
    "df_scaled = pd.DataFrame(scaler.fit_transform(df), index=df.index, columns=df.columns)"
   ]
  },
  {
   "cell_type": "code",
   "execution_count": 5,
   "metadata": {},
   "outputs": [
    {
     "data": {
      "text/plain": [
       "<AxesSubplot:>"
      ]
     },
     "execution_count": 5,
     "metadata": {},
     "output_type": "execute_result"
    },
    {
     "data": {
      "image/png": "[encoded data removed]",
      "text/plain": [
       "<Figure size 432x288 with 1 Axes>"
      ]
     },
     "metadata": {},
     "output_type": "display_data"
    }
   ],
   "source": [
    "df_scaled.boxplot()"
   ]
  },
  {
   "cell_type": "markdown",
   "metadata": {},
   "source": [
    "### Feature Correlations\n",
    "\n",
    "The correlation between features is an important relationship to explore, and a great way to visualize these correlations is using a heat map, which seaborn makes simple."
   ]
  },
  {
   "cell_type": "code",
   "execution_count": 6,
   "metadata": {},
   "outputs": [
    {
     "data": {
      "image/png": "[encoded data removed]",
      "text/plain": [
       "<Figure size 432x288 with 2 Axes>"
      ]
     },
     "metadata": {},
     "output_type": "display_data"
    }
   ],
   "source": [
    "import seaborn as sns\n",
    "\n",
    "g = sns.heatmap(df_scaled.corr(), annot=False, linewidths=0.1, vmax=1.0, linecolor='white', cmap=plt.cm.RdBu)\n",
    "g.set_title(\"Pair-wise Heat map\")\n",
    "plt.show()"
   ]
  },
  {
   "cell_type": "markdown",
   "metadata": {},
   "source": [
    "From the chart up, there are many interesting correlations, but some of the strongest are listed below:\n",
    "- life expecency is negatively correlated with child mortality.  This makes sense, seeing as more children dying would descrese the life expectency\n",
    "- exports are strongly correlated with imports.  This makes sense indicating that a country's econony scales with imports and exports together. \n",
    "- income and gdp are highly correlated.  This makes sense because the more individuals have to spend on average, the more goods that are produced to meet that demand. \n",
    "-child mortality is negatively correlated with income.  This makes sense because country's that can't pay for child healthcare intuitively indicates children would die more often, unfortately."
   ]
  },
  {
   "cell_type": "markdown",
   "metadata": {},
   "source": [
    "## PCA\n",
    "\n",
    "Since there are so many features, we use PCA to decompose to the subset that captures the majority of the variance in the dataset."
   ]
  },
  {
   "cell_type": "code",
   "execution_count": 7,
   "metadata": {},
   "outputs": [
    {
     "data": {
      "image/png": "[encoded data removed]",
      "text/plain": [
       "<Figure size 432x288 with 1 Axes>"
      ]
     },
     "metadata": {},
     "output_type": "display_data"
    }
   ],
   "source": [
    "from sklearn.decomposition import PCA\n",
    "\n",
    "num_features = len(df_scaled.columns)\n",
    "\n",
    "pca = PCA(n_components=num_features)\n",
    "principal_components = pca.fit_transform(df_scaled)\n",
    "\n",
    "# Plot the explained variances\n",
    "features = range(pca.n_components_)\n",
    "plt.bar(features, pca.explained_variance_ratio_, color='black')\n",
    "plt.xlabel('PCA features')\n",
    "plt.ylabel('variance %')\n",
    "plt.xticks(features)\n",
    "plt.show()"
   ]
  },
  {
   "cell_type": "markdown",
   "metadata": {},
   "source": [
    "it is recommended that using PCA we choose as many features are needed to explain at least 80% of the variance.  In the plot above, one can see that we will need the first 3 principle components to explain that amount of variance in this dataset."
   ]
  },
  {
   "cell_type": "code",
   "execution_count": 8,
   "metadata": {},
   "outputs": [
    {
     "data": {
      "text/html": [
       "<div>\n",
       "<style scoped>\n",
       "    .dataframe tbody tr th:only-of-type {\n",
       "        vertical-align: middle;\n",
       "    }\n",
       "\n",
       "    .dataframe tbody tr th {\n",
       "        vertical-align: top;\n",
       "    }\n",
       "\n",
       "    .dataframe thead th {\n",
       "        text-align: right;\n",
       "    }\n",
       "</style>\n",
       "<table border=\"1\" class=\"dataframe\">\n",
       "  <thead>\n",
       "    <tr style=\"text-align: right;\">\n",
       "      <th></th>\n",
       "      <th>PC-1</th>\n",
       "      <th>PC-2</th>\n",
       "      <th>PC-3</th>\n",
       "    </tr>\n",
       "  </thead>\n",
       "  <tbody>\n",
       "    <tr>\n",
       "      <th>child_mort</th>\n",
       "      <td>-0.419519</td>\n",
       "      <td>0.192884</td>\n",
       "      <td>-0.029544</td>\n",
       "    </tr>\n",
       "    <tr>\n",
       "      <th>exports</th>\n",
       "      <td>0.283897</td>\n",
       "      <td>0.613163</td>\n",
       "      <td>0.144761</td>\n",
       "    </tr>\n",
       "    <tr>\n",
       "      <th>health</th>\n",
       "      <td>0.150838</td>\n",
       "      <td>-0.243087</td>\n",
       "      <td>-0.596632</td>\n",
       "    </tr>\n",
       "    <tr>\n",
       "      <th>imports</th>\n",
       "      <td>0.161482</td>\n",
       "      <td>0.671821</td>\n",
       "      <td>-0.299927</td>\n",
       "    </tr>\n",
       "    <tr>\n",
       "      <th>income</th>\n",
       "      <td>0.398441</td>\n",
       "      <td>0.022536</td>\n",
       "      <td>0.301548</td>\n",
       "    </tr>\n",
       "    <tr>\n",
       "      <th>inflation</th>\n",
       "      <td>-0.193173</td>\n",
       "      <td>-0.008404</td>\n",
       "      <td>0.642520</td>\n",
       "    </tr>\n",
       "    <tr>\n",
       "      <th>life_expec</th>\n",
       "      <td>0.425839</td>\n",
       "      <td>-0.222707</td>\n",
       "      <td>0.113919</td>\n",
       "    </tr>\n",
       "    <tr>\n",
       "      <th>total_fer</th>\n",
       "      <td>-0.403729</td>\n",
       "      <td>0.155233</td>\n",
       "      <td>0.019549</td>\n",
       "    </tr>\n",
       "    <tr>\n",
       "      <th>gdpp</th>\n",
       "      <td>0.392645</td>\n",
       "      <td>-0.046022</td>\n",
       "      <td>0.122977</td>\n",
       "    </tr>\n",
       "  </tbody>\n",
       "</table>\n",
       "</div>"
      ],
      "text/plain": [
       "                PC-1      PC-2      PC-3\n",
       "child_mort -0.419519  0.192884 -0.029544\n",
       "exports     0.283897  0.613163  0.144761\n",
       "health      0.150838 -0.243087 -0.596632\n",
       "imports     0.161482  0.671821 -0.299927\n",
       "income      0.398441  0.022536  0.301548\n",
       "inflation  -0.193173 -0.008404  0.642520\n",
       "life_expec  0.425839 -0.222707  0.113919\n",
       "total_fer  -0.403729  0.155233  0.019549\n",
       "gdpp        0.392645 -0.046022  0.122977"
      ]
     },
     "execution_count": 8,
     "metadata": {},
     "output_type": "execute_result"
    }
   ],
   "source": [
    "pca = PCA(n_components=3)\n",
    "df_scaled_pca = pca.fit_transform(df_scaled)\n",
    "\n",
    "pc_df = pd.DataFrame(pca.components_.T, columns=['PC-1', 'PC-2', 'PC-3'], index=df_scaled.columns)\n",
    "pc_df"
   ]
  },
  {
   "cell_type": "markdown",
   "metadata": {},
   "source": [
    "## K-Means"
   ]
  },
  {
   "cell_type": "code",
   "execution_count": 9,
   "metadata": {
    "scrolled": true
   },
   "outputs": [
    {
     "name": "stdout",
     "output_type": "stream",
     "text": [
      "Silhouette score for 2 clusters: 0.3486469452367987\n",
      "Silhouette score for 3 clusters: 0.36897078470659267\n",
      "Silhouette score for 4 clusters: 0.28690631542673184\n",
      "Silhouette score for 5 clusters: 0.2902046922169579\n",
      "Silhouette score for 6 clusters: 0.3065226605998928\n",
      "Silhouette score for 7 clusters: 0.30887522553305435\n",
      "Silhouette score for 8 clusters: 0.2973416756110241\n",
      "Silhouette score for 9 clusters: 0.3121520188230873\n",
      "Silhouette score for 10 clusters: 0.3171023367829402\n",
      "Silhouette score for 11 clusters: 0.29630611110971494\n",
      "Silhouette score for 12 clusters: 0.2968122930085333\n",
      "Silhouette score for 13 clusters: 0.3016489388899207\n",
      "Silhouette score for 14 clusters: 0.28887206799043064\n"
     ]
    }
   ],
   "source": [
    "from sklearn.cluster import KMeans\n",
    "from sklearn.metrics import silhouette_score\n",
    "\n",
    "silhouette_scores = []\n",
    "clusters = [ i for i in range(2, 15) ]\n",
    "\n",
    "for i in clusters:\n",
    "    kmeans = KMeans(n_clusters=i)\n",
    "    kmeans.fit(df_scaled_pca)\n",
    "    score = silhouette_score(df_scaled_pca, kmeans.predict(df_scaled_pca))\n",
    "    print(\"Silhouette score for {num} clusters: {score}\".format(num=i, score=score))\n",
    "    silhouette_scores.append(score)"
   ]
  },
  {
   "cell_type": "code",
   "execution_count": 10,
   "metadata": {},
   "outputs": [
    {
     "data": {
      "text/plain": [
       "array([[ 1.2049172 , -0.46185337,  0.04780099],\n",
       "       [-1.89291832,  0.30749252, -0.05888507],\n",
       "       [ 4.33037993,  4.19320675, -0.05514727]])"
      ]
     },
     "execution_count": 10,
     "metadata": {},
     "output_type": "execute_result"
    }
   ],
   "source": [
    "num_clusters = 3\n",
    "kmeans = KMeans(n_clusters=num_clusters)\n",
    "kmeans.fit(df_scaled_pca)\n",
    "kmeans.cluster_centers_"
   ]
  },
  {
   "cell_type": "code",
   "execution_count": 11,
   "metadata": {},
   "outputs": [
    {
     "data": {
      "text/html": [
       "<div>\n",
       "<style scoped>\n",
       "    .dataframe tbody tr th:only-of-type {\n",
       "        vertical-align: middle;\n",
       "    }\n",
       "\n",
       "    .dataframe tbody tr th {\n",
       "        vertical-align: top;\n",
       "    }\n",
       "\n",
       "    .dataframe thead th {\n",
       "        text-align: right;\n",
       "    }\n",
       "</style>\n",
       "<table border=\"1\" class=\"dataframe\">\n",
       "  <thead>\n",
       "    <tr style=\"text-align: right;\">\n",
       "      <th></th>\n",
       "      <th>child_mort</th>\n",
       "      <th>exports</th>\n",
       "      <th>health</th>\n",
       "      <th>imports</th>\n",
       "      <th>income</th>\n",
       "      <th>inflation</th>\n",
       "      <th>life_expec</th>\n",
       "      <th>total_fer</th>\n",
       "      <th>gdpp</th>\n",
       "    </tr>\n",
       "  </thead>\n",
       "  <tbody>\n",
       "    <tr>\n",
       "      <th>0</th>\n",
       "      <td>14.306792</td>\n",
       "      <td>42.907290</td>\n",
       "      <td>7.542782</td>\n",
       "      <td>43.751284</td>\n",
       "      <td>26449.115895</td>\n",
       "      <td>5.693394</td>\n",
       "      <td>76.065375</td>\n",
       "      <td>2.106947</td>\n",
       "      <td>22105.387879</td>\n",
       "    </tr>\n",
       "    <tr>\n",
       "      <th>1</th>\n",
       "      <td>72.654582</td>\n",
       "      <td>31.341987</td>\n",
       "      <td>5.925265</td>\n",
       "      <td>44.924690</td>\n",
       "      <td>2440.349632</td>\n",
       "      <td>11.209554</td>\n",
       "      <td>62.741922</td>\n",
       "      <td>4.171723</td>\n",
       "      <td>-1008.638749</td>\n",
       "    </tr>\n",
       "    <tr>\n",
       "      <th>2</th>\n",
       "      <td>-2.189130</td>\n",
       "      <td>144.757844</td>\n",
       "      <td>5.903117</td>\n",
       "      <td>132.163890</td>\n",
       "      <td>51803.972690</td>\n",
       "      <td>-1.779019</td>\n",
       "      <td>78.570199</td>\n",
       "      <td>1.290059</td>\n",
       "      <td>40384.605524</td>\n",
       "    </tr>\n",
       "  </tbody>\n",
       "</table>\n",
       "</div>"
      ],
      "text/plain": [
       "   child_mort     exports    health     imports        income  inflation  \\\n",
       "0   14.306792   42.907290  7.542782   43.751284  26449.115895   5.693394   \n",
       "1   72.654582   31.341987  5.925265   44.924690   2440.349632  11.209554   \n",
       "2   -2.189130  144.757844  5.903117  132.163890  51803.972690  -1.779019   \n",
       "\n",
       "   life_expec  total_fer          gdpp  \n",
       "0   76.065375   2.106947  22105.387879  \n",
       "1   62.741922   4.171723  -1008.638749  \n",
       "2   78.570199   1.290059  40384.605524  "
      ]
     },
     "execution_count": 11,
     "metadata": {},
     "output_type": "execute_result"
    }
   ],
   "source": [
    "# ColumnTransformer has no inverse transform...\n",
    "inverse_array = pd.DataFrame(pca.inverse_transform(kmeans.cluster_centers_), columns=df.columns)\n",
    "inverse_center_df = pd.DataFrame(scaler.inverse_transform(inverse_array), columns=df.columns)\n",
    "inverse_center_df"
   ]
  },
  {
   "cell_type": "code",
   "execution_count": 12,
   "metadata": {},
   "outputs": [
    {
     "data": {
      "text/html": [
       "<div>\n",
       "<style scoped>\n",
       "    .dataframe tbody tr th:only-of-type {\n",
       "        vertical-align: middle;\n",
       "    }\n",
       "\n",
       "    .dataframe tbody tr th {\n",
       "        vertical-align: top;\n",
       "    }\n",
       "\n",
       "    .dataframe thead th {\n",
       "        text-align: right;\n",
       "    }\n",
       "</style>\n",
       "<table border=\"1\" class=\"dataframe\">\n",
       "  <thead>\n",
       "    <tr style=\"text-align: right;\">\n",
       "      <th></th>\n",
       "      <th>child_mort</th>\n",
       "      <th>exports</th>\n",
       "      <th>health</th>\n",
       "      <th>imports</th>\n",
       "      <th>income</th>\n",
       "      <th>inflation</th>\n",
       "      <th>life_expec</th>\n",
       "      <th>total_fer</th>\n",
       "      <th>gdpp</th>\n",
       "    </tr>\n",
       "  </thead>\n",
       "  <tbody>\n",
       "    <tr>\n",
       "      <th>count</th>\n",
       "      <td>167.000000</td>\n",
       "      <td>167.000000</td>\n",
       "      <td>167.000000</td>\n",
       "      <td>167.000000</td>\n",
       "      <td>167.000000</td>\n",
       "      <td>167.000000</td>\n",
       "      <td>167.000000</td>\n",
       "      <td>167.000000</td>\n",
       "      <td>167.000000</td>\n",
       "    </tr>\n",
       "    <tr>\n",
       "      <th>mean</th>\n",
       "      <td>38.270060</td>\n",
       "      <td>41.108976</td>\n",
       "      <td>6.815689</td>\n",
       "      <td>46.890215</td>\n",
       "      <td>17144.688623</td>\n",
       "      <td>7.781832</td>\n",
       "      <td>70.555689</td>\n",
       "      <td>2.947964</td>\n",
       "      <td>12964.155689</td>\n",
       "    </tr>\n",
       "    <tr>\n",
       "      <th>std</th>\n",
       "      <td>40.328931</td>\n",
       "      <td>27.412010</td>\n",
       "      <td>2.746837</td>\n",
       "      <td>24.209589</td>\n",
       "      <td>19278.067698</td>\n",
       "      <td>10.570704</td>\n",
       "      <td>8.893172</td>\n",
       "      <td>1.513848</td>\n",
       "      <td>18328.704809</td>\n",
       "    </tr>\n",
       "    <tr>\n",
       "      <th>min</th>\n",
       "      <td>2.600000</td>\n",
       "      <td>0.109000</td>\n",
       "      <td>1.810000</td>\n",
       "      <td>0.065900</td>\n",
       "      <td>609.000000</td>\n",
       "      <td>-4.210000</td>\n",
       "      <td>32.100000</td>\n",
       "      <td>1.150000</td>\n",
       "      <td>231.000000</td>\n",
       "    </tr>\n",
       "    <tr>\n",
       "      <th>25%</th>\n",
       "      <td>8.250000</td>\n",
       "      <td>23.800000</td>\n",
       "      <td>4.920000</td>\n",
       "      <td>30.200000</td>\n",
       "      <td>3355.000000</td>\n",
       "      <td>1.810000</td>\n",
       "      <td>65.300000</td>\n",
       "      <td>1.795000</td>\n",
       "      <td>1330.000000</td>\n",
       "    </tr>\n",
       "    <tr>\n",
       "      <th>50%</th>\n",
       "      <td>19.300000</td>\n",
       "      <td>35.000000</td>\n",
       "      <td>6.320000</td>\n",
       "      <td>43.300000</td>\n",
       "      <td>9960.000000</td>\n",
       "      <td>5.390000</td>\n",
       "      <td>73.100000</td>\n",
       "      <td>2.410000</td>\n",
       "      <td>4660.000000</td>\n",
       "    </tr>\n",
       "    <tr>\n",
       "      <th>75%</th>\n",
       "      <td>62.100000</td>\n",
       "      <td>51.350000</td>\n",
       "      <td>8.600000</td>\n",
       "      <td>58.750000</td>\n",
       "      <td>22800.000000</td>\n",
       "      <td>10.750000</td>\n",
       "      <td>76.800000</td>\n",
       "      <td>3.880000</td>\n",
       "      <td>14050.000000</td>\n",
       "    </tr>\n",
       "    <tr>\n",
       "      <th>max</th>\n",
       "      <td>208.000000</td>\n",
       "      <td>200.000000</td>\n",
       "      <td>17.900000</td>\n",
       "      <td>174.000000</td>\n",
       "      <td>125000.000000</td>\n",
       "      <td>104.000000</td>\n",
       "      <td>82.800000</td>\n",
       "      <td>7.490000</td>\n",
       "      <td>105000.000000</td>\n",
       "    </tr>\n",
       "  </tbody>\n",
       "</table>\n",
       "</div>"
      ],
      "text/plain": [
       "       child_mort     exports      health     imports         income  \\\n",
       "count  167.000000  167.000000  167.000000  167.000000     167.000000   \n",
       "mean    38.270060   41.108976    6.815689   46.890215   17144.688623   \n",
       "std     40.328931   27.412010    2.746837   24.209589   19278.067698   \n",
       "min      2.600000    0.109000    1.810000    0.065900     609.000000   \n",
       "25%      8.250000   23.800000    4.920000   30.200000    3355.000000   \n",
       "50%     19.300000   35.000000    6.320000   43.300000    9960.000000   \n",
       "75%     62.100000   51.350000    8.600000   58.750000   22800.000000   \n",
       "max    208.000000  200.000000   17.900000  174.000000  125000.000000   \n",
       "\n",
       "        inflation  life_expec   total_fer           gdpp  \n",
       "count  167.000000  167.000000  167.000000     167.000000  \n",
       "mean     7.781832   70.555689    2.947964   12964.155689  \n",
       "std     10.570704    8.893172    1.513848   18328.704809  \n",
       "min     -4.210000   32.100000    1.150000     231.000000  \n",
       "25%      1.810000   65.300000    1.795000    1330.000000  \n",
       "50%      5.390000   73.100000    2.410000    4660.000000  \n",
       "75%     10.750000   76.800000    3.880000   14050.000000  \n",
       "max    104.000000   82.800000    7.490000  105000.000000  "
      ]
     },
     "execution_count": 12,
     "metadata": {},
     "output_type": "execute_result"
    }
   ],
   "source": [
    "df.describe()"
   ]
  },
  {
   "cell_type": "code",
   "execution_count": 13,
   "metadata": {},
   "outputs": [
    {
     "data": {
      "image/png": "[encoded data removed]",
      "text/plain": [
       "<Figure size 432x288 with 1 Axes>"
      ]
     },
     "metadata": {},
     "output_type": "display_data"
    },
    {
     "data": {
      "image/png": "[encoded data removed]",
      "text/plain": [
       "<Figure size 432x288 with 1 Axes>"
      ]
     },
     "metadata": {},
     "output_type": "display_data"
    },
    {
     "data": {
      "image/png": "[encoded data removed]",
      "text/plain": [
       "<Figure size 432x288 with 1 Axes>"
      ]
     },
     "metadata": {},
     "output_type": "display_data"
    },
    {
     "data": {
      "image/png": "[encoded data removed]",
      "text/plain": [
       "<Figure size 432x288 with 1 Axes>"
      ]
     },
     "metadata": {},
     "output_type": "display_data"
    },
    {
     "data": {
      "image/png": "[encoded data removed]",
      "text/plain": [
       "<Figure size 432x288 with 1 Axes>"
      ]
     },
     "metadata": {},
     "output_type": "display_data"
    },
    {
     "data": {
      "image/png": "[encoded data removed]",
      "text/plain": [
       "<Figure size 432x288 with 1 Axes>"
      ]
     },
     "metadata": {},
     "output_type": "display_data"
    },
    {
     "data": {
      "image/png": "[encoded data removed]",
      "text/plain": [
       "<Figure size 432x288 with 1 Axes>"
      ]
     },
     "metadata": {},
     "output_type": "display_data"
    },
    {
     "data": {
      "image/png": "[encoded data removed]",
      "text/plain": [
       "<Figure size 432x288 with 1 Axes>"
      ]
     },
     "metadata": {},
     "output_type": "display_data"
    },
    {
     "data": {
      "image/png": "[encoded data removed]",
      "text/plain": [
       "<Figure size 432x288 with 1 Axes>"
      ]
     },
     "metadata": {},
     "output_type": "display_data"
    }
   ],
   "source": [
    "colors = ['blue', 'red', 'green', 'orange', 'purple']\n",
    "\n",
    "for i in range (len(df.columns)):\n",
    "    label = df.columns[i]\n",
    "    row = i // 3\n",
    "    col = i % 3\n",
    "    plt.figure()\n",
    "    plt.title(label)\n",
    "    plt.boxplot(df[label])\n",
    "    for j in range(len(inverse_center_df)):\n",
    "        plt.scatter(1, inverse_center_df[label][j], color=colors[j])"
   ]
  },
  {
   "cell_type": "code",
   "execution_count": 27,
   "metadata": {},
   "outputs": [
    {
     "name": "stdout",
     "output_type": "stream",
     "text": [
      "Cluster 0 Occurences:  92 blue\n",
      "Cluster 1 Occurences:  70 red\n",
      "Cluster 2 Occurences:  5 green\n"
     ]
    }
   ],
   "source": [
    "val = kmeans.predict(df_scaled_pca)\n",
    "print(\"Cluster 0 Occurences: \", np.count_nonzero(val == 0), colors[0])\n",
    "print(\"Cluster 1 Occurences: \", np.count_nonzero(val == 1), colors[1])\n",
    "print(\"Cluster 2 Occurences: \", np.count_nonzero(val == 2), colors[2])"
   ]
  },
  {
   "cell_type": "markdown",
   "metadata": {},
   "source": [
    "### Analysis of Clusters\n",
    "\n",
    "The three clusters can be characterized by the following three groups:\n",
    "\n",
    "- *about 92 nations:* these are characterized by general higher income and GDP.  Looking at the mean centers above relative to the box plot of the whole data set, the data set indicates that nations that have higher income and GDP have higher life expectency and lower child mortality rate.\n",
    "- *about 70 nations:* these are characteruized by general lower income and GDP.  Looking at the mean centers above relative to the box plot of the whole data set, the data set indicates that nations that have lower income, GDP, imports and exports, suffer _severely_ higher child mortality rates and _severely_low life expectencies.  It appears that these nations don't have the economics means viable to increase quality of living and healthcare that the previous group had.\n",
    "- *about 5 nations:* these nations are the richest of the rich nations, where they have extraordinarely high GDP, imports and export with low inflation.  They are the outliers that have a bunch of money per capita.\n",
    "\n",
    "Below are print outs of the countries that are members of each cluster:"
   ]
  },
  {
   "cell_type": "code",
   "execution_count": 15,
   "metadata": {},
   "outputs": [
    {
     "name": "stdout",
     "output_type": "stream",
     "text": [
      "Countries belonging to Cluster 0: (blue)\n",
      "Albania\n",
      "Algeria\n",
      "Antigua and Barbuda\n",
      "Argentina\n",
      "Armenia\n",
      "Australia\n",
      "Austria\n",
      "Azerbaijan\n",
      "Bahamas\n",
      "Bahrain\n",
      "Barbados\n",
      "Belarus\n",
      "Belgium\n",
      "Belize\n",
      "Bosnia and Herzegovina\n",
      "Brazil\n",
      "Brunei\n",
      "Bulgaria\n",
      "Canada\n",
      "Cape Verde\n",
      "Chile\n",
      "China\n",
      "Colombia\n",
      "Costa Rica\n",
      "Croatia\n",
      "Cyprus\n",
      "Czech Republic\n",
      "Denmark\n",
      "Dominican Republic\n",
      "Ecuador\n",
      "El Salvador\n",
      "Estonia\n",
      "Finland\n",
      "France\n",
      "Georgia\n",
      "Germany\n",
      "Greece\n",
      "Grenada\n",
      "Hungary\n",
      "Iceland\n",
      "Iran\n",
      "Israel\n",
      "Italy\n",
      "Jamaica\n",
      "Japan\n",
      "Jordan\n",
      "Kazakhstan\n",
      "Kuwait\n",
      "Latvia\n",
      "Lebanon\n",
      "Libya\n",
      "Lithuania\n",
      "Macedonia, FYR\n",
      "Malaysia\n",
      "Maldives\n",
      "Mauritius\n",
      "Moldova\n",
      "Montenegro\n",
      "Morocco\n",
      "Netherlands\n",
      "New Zealand\n",
      "Norway\n",
      "Oman\n",
      "Panama\n",
      "Paraguay\n",
      "Peru\n",
      "Poland\n",
      "Portugal\n",
      "Qatar\n",
      "Romania\n",
      "Russia\n",
      "Saudi Arabia\n",
      "Serbia\n",
      "Slovak Republic\n",
      "Slovenia\n",
      "South Korea\n",
      "Spain\n",
      "Sri Lanka\n",
      "St. Vincent and the Grenadines\n",
      "Suriname\n",
      "Sweden\n",
      "Switzerland\n",
      "Thailand\n",
      "Tunisia\n",
      "Turkey\n",
      "Ukraine\n",
      "United Arab Emirates\n",
      "United Kingdom\n",
      "United States\n",
      "Uruguay\n",
      "Venezuela\n",
      "Vietnam\n"
     ]
    }
   ],
   "source": [
    "print(\"Countries belonging to Cluster 0: (%s)\" % colors[0])\n",
    "for i in range(len(df_scaled_pca)):\n",
    "    if (val[i] == 0):\n",
    "        print(labels[i])"
   ]
  },
  {
   "cell_type": "code",
   "execution_count": 16,
   "metadata": {},
   "outputs": [
    {
     "name": "stdout",
     "output_type": "stream",
     "text": [
      "Countries belonging to Cluster 1: (red)\n",
      "Afghanistan\n",
      "Angola\n",
      "Bangladesh\n",
      "Benin\n",
      "Bhutan\n",
      "Bolivia\n",
      "Botswana\n",
      "Burkina Faso\n",
      "Burundi\n",
      "Cambodia\n",
      "Cameroon\n",
      "Central African Republic\n",
      "Chad\n",
      "Comoros\n",
      "Congo, Dem. Rep.\n",
      "Congo, Rep.\n",
      "Cote d'Ivoire\n",
      "Egypt\n",
      "Equatorial Guinea\n",
      "Eritrea\n",
      "Fiji\n",
      "Gabon\n",
      "Gambia\n",
      "Ghana\n",
      "Guatemala\n",
      "Guinea\n",
      "Guinea-Bissau\n",
      "Guyana\n",
      "Haiti\n",
      "India\n",
      "Indonesia\n",
      "Iraq\n",
      "Kenya\n",
      "Kiribati\n",
      "Kyrgyz Republic\n",
      "Lao\n",
      "Lesotho\n",
      "Liberia\n",
      "Madagascar\n",
      "Malawi\n",
      "Mali\n",
      "Mauritania\n",
      "Micronesia, Fed. Sts.\n",
      "Mongolia\n",
      "Mozambique\n",
      "Myanmar\n",
      "Namibia\n",
      "Nepal\n",
      "Niger\n",
      "Nigeria\n",
      "Pakistan\n",
      "Philippines\n",
      "Rwanda\n",
      "Samoa\n",
      "Senegal\n",
      "Sierra Leone\n",
      "Solomon Islands\n",
      "South Africa\n",
      "Sudan\n",
      "Tajikistan\n",
      "Tanzania\n",
      "Timor-Leste\n",
      "Togo\n",
      "Tonga\n",
      "Turkmenistan\n",
      "Uganda\n",
      "Uzbekistan\n",
      "Vanuatu\n",
      "Yemen\n",
      "Zambia\n"
     ]
    }
   ],
   "source": [
    "print(\"Countries belonging to Cluster 1: (%s)\" % colors[1])\n",
    "for i in range(len(df_scaled_pca)):\n",
    "    if (val[i] == 1):\n",
    "        print(labels[i])"
   ]
  },
  {
   "cell_type": "code",
   "execution_count": 17,
   "metadata": {},
   "outputs": [
    {
     "name": "stdout",
     "output_type": "stream",
     "text": [
      "Countries belonging to Cluster 2: (green)\n",
      "Ireland\n",
      "Luxembourg\n",
      "Malta\n",
      "Seychelles\n",
      "Singapore\n"
     ]
    }
   ],
   "source": [
    "print(\"Countries belonging to Cluster 2: (%s)\" % colors[2])\n",
    "for i in range(len(df_scaled_pca)):\n",
    "    if (val[i] == 2):\n",
    "        print(labels[i])"
   ]
  },
  {
   "cell_type": "markdown",
   "metadata": {},
   "source": [
    "You can see from the data above, the data is easily broken into countries that are rich, with thriving economies, and countries that are poor that have less thriving economies.  It also shows that countries with better economies have higher life expectency and lower child mortality rate.\n",
    "\n",
    "In some cases, we may want to see which countries are extremely poor and need more aid than others.  Even though the silhouette score is lower, let us experiment using five 5 clusters to see if we can further find even poorer nations."
   ]
  },
  {
   "cell_type": "markdown",
   "metadata": {},
   "source": [
    "## Kmeans (Again) - More Clusters"
   ]
  },
  {
   "cell_type": "code",
   "execution_count": 18,
   "metadata": {},
   "outputs": [
    {
     "data": {
      "text/plain": [
       "array([[-1.13231963, -0.51184594,  1.23351409],\n",
       "       [ 2.56872337, -0.8250807 ,  0.05511883],\n",
       "       [-2.44936932,  0.53834127, -0.48693092],\n",
       "       [ 5.46022462,  5.43247334,  0.21164795],\n",
       "       [ 0.47301901,  0.03964331, -0.27108661]])"
      ]
     },
     "execution_count": 18,
     "metadata": {},
     "output_type": "execute_result"
    }
   ],
   "source": [
    "num_clusters = 5\n",
    "kmeans2 = KMeans(n_clusters=num_clusters)\n",
    "kmeans2.fit(df_scaled_pca)\n",
    "kmeans2.cluster_centers_"
   ]
  },
  {
   "cell_type": "code",
   "execution_count": 19,
   "metadata": {},
   "outputs": [
    {
     "data": {
      "text/html": [
       "<div>\n",
       "<style scoped>\n",
       "    .dataframe tbody tr th:only-of-type {\n",
       "        vertical-align: middle;\n",
       "    }\n",
       "\n",
       "    .dataframe tbody tr th {\n",
       "        vertical-align: top;\n",
       "    }\n",
       "\n",
       "    .dataframe thead th {\n",
       "        text-align: right;\n",
       "    }\n",
       "</style>\n",
       "<table border=\"1\" class=\"dataframe\">\n",
       "  <thead>\n",
       "    <tr style=\"text-align: right;\">\n",
       "      <th></th>\n",
       "      <th>child_mort</th>\n",
       "      <th>exports</th>\n",
       "      <th>health</th>\n",
       "      <th>imports</th>\n",
       "      <th>income</th>\n",
       "      <th>inflation</th>\n",
       "      <th>life_expec</th>\n",
       "      <th>total_fer</th>\n",
       "      <th>gdpp</th>\n",
       "    </tr>\n",
       "  </thead>\n",
       "  <tbody>\n",
       "    <tr>\n",
       "      <th>0</th>\n",
       "      <td>51.935188</td>\n",
       "      <td>28.626274</td>\n",
       "      <td>4.673204</td>\n",
       "      <td>25.246998</td>\n",
       "      <td>15400.751217</td>\n",
       "      <td>18.485166</td>\n",
       "      <td>68.537010</td>\n",
       "      <td>3.554418</td>\n",
       "      <td>8042.147791</td>\n",
       "    </tr>\n",
       "    <tr>\n",
       "      <th>1</th>\n",
       "      <td>-11.523639</td>\n",
       "      <td>47.430977</td>\n",
       "      <td>8.335999</td>\n",
       "      <td>43.124020</td>\n",
       "      <td>36778.423072</td>\n",
       "      <td>2.998614</td>\n",
       "      <td>81.939339</td>\n",
       "      <td>1.191023</td>\n",
       "      <td>32212.742130</td>\n",
       "    </tr>\n",
       "    <tr>\n",
       "      <th>2</th>\n",
       "      <td>84.339632</td>\n",
       "      <td>29.199577</td>\n",
       "      <td>6.241123</td>\n",
       "      <td>49.597957</td>\n",
       "      <td>-4201.919536</td>\n",
       "      <td>9.423438</td>\n",
       "      <td>59.752733</td>\n",
       "      <td>4.552254</td>\n",
       "      <td>-6157.299979</td>\n",
       "    </tr>\n",
       "    <tr>\n",
       "      <th>3</th>\n",
       "      <td>-11.953212</td>\n",
       "      <td>175.346849</td>\n",
       "      <td>5.108910</td>\n",
       "      <td>154.731883</td>\n",
       "      <td>62539.556572</td>\n",
       "      <td>-2.382373</td>\n",
       "      <td>80.658548</td>\n",
       "      <td>0.899812</td>\n",
       "      <td>48048.677805</td>\n",
       "    </tr>\n",
       "    <tr>\n",
       "      <th>4</th>\n",
       "      <td>30.920629</td>\n",
       "      <td>44.370894</td>\n",
       "      <td>7.427633</td>\n",
       "      <td>51.339233</td>\n",
       "      <td>19213.137013</td>\n",
       "      <td>4.979657</td>\n",
       "      <td>71.989575</td>\n",
       "      <td>2.661019</td>\n",
       "      <td>15715.568509</td>\n",
       "    </tr>\n",
       "  </tbody>\n",
       "</table>\n",
       "</div>"
      ],
      "text/plain": [
       "   child_mort     exports    health     imports        income  inflation  \\\n",
       "0   51.935188   28.626274  4.673204   25.246998  15400.751217  18.485166   \n",
       "1  -11.523639   47.430977  8.335999   43.124020  36778.423072   2.998614   \n",
       "2   84.339632   29.199577  6.241123   49.597957  -4201.919536   9.423438   \n",
       "3  -11.953212  175.346849  5.108910  154.731883  62539.556572  -2.382373   \n",
       "4   30.920629   44.370894  7.427633   51.339233  19213.137013   4.979657   \n",
       "\n",
       "   life_expec  total_fer          gdpp  \n",
       "0   68.537010   3.554418   8042.147791  \n",
       "1   81.939339   1.191023  32212.742130  \n",
       "2   59.752733   4.552254  -6157.299979  \n",
       "3   80.658548   0.899812  48048.677805  \n",
       "4   71.989575   2.661019  15715.568509  "
      ]
     },
     "execution_count": 19,
     "metadata": {},
     "output_type": "execute_result"
    }
   ],
   "source": [
    "# ColumnTransformer has no inverse transform...\n",
    "inverse_array2 = pd.DataFrame(pca.inverse_transform(kmeans2.cluster_centers_), columns=df.columns)\n",
    "inverse_center_df2 = pd.DataFrame(scaler.inverse_transform(inverse_array2), columns=df.columns)\n",
    "inverse_center_df2"
   ]
  },
  {
   "cell_type": "code",
   "execution_count": 20,
   "metadata": {},
   "outputs": [
    {
     "data": {
      "image/png": "[encoded data removed]",
      "text/plain": [
       "<Figure size 432x288 with 1 Axes>"
      ]
     },
     "metadata": {},
     "output_type": "display_data"
    },
    {
     "data": {
      "image/png": "[encoded data removed]",
      "text/plain": [
       "<Figure size 432x288 with 1 Axes>"
      ]
     },
     "metadata": {},
     "output_type": "display_data"
    },
    {
     "data": {
      "image/png": "[encoded data removed]",
      "text/plain": [
       "<Figure size 432x288 with 1 Axes>"
      ]
     },
     "metadata": {},
     "output_type": "display_data"
    },
    {
     "data": {
      "image/png": "[encoded data removed]",
      "text/plain": [
       "<Figure size 432x288 with 1 Axes>"
      ]
     },
     "metadata": {},
     "output_type": "display_data"
    },
    {
     "data": {
      "image/png": "[encoded data removed]",
      "text/plain": [
       "<Figure size 432x288 with 1 Axes>"
      ]
     },
     "metadata": {},
     "output_type": "display_data"
    },
    {
     "data": {
      "image/png": "[encoded data removed]",
      "text/plain": [
       "<Figure size 432x288 with 1 Axes>"
      ]
     },
     "metadata": {},
     "output_type": "display_data"
    },
    {
     "data": {
      "image/png": "[encoded data removed]",
      "text/plain": [
       "<Figure size 432x288 with 1 Axes>"
      ]
     },
     "metadata": {},
     "output_type": "display_data"
    },
    {
     "data": {
      "image/png": "[encoded data removed]",
      "text/plain": [
       "<Figure size 432x288 with 1 Axes>"
      ]
     },
     "metadata": {},
     "output_type": "display_data"
    },
    {
     "data": {
      "image/png": "[encoded data removed]",
      "text/plain": [
       "<Figure size 432x288 with 1 Axes>"
      ]
     },
     "metadata": {},
     "output_type": "display_data"
    }
   ],
   "source": [
    "colors = ['blue', 'red', 'green', 'orange', 'purple']\n",
    "\n",
    "for i in range (len(df.columns)):\n",
    "    label = df.columns[i]\n",
    "    row = i // 3\n",
    "    col = i % 3\n",
    "    plt.figure()\n",
    "    plt.title(label)\n",
    "    plt.boxplot(df[label])\n",
    "    for j in range(len(inverse_center_df2)):\n",
    "        plt.scatter(1, inverse_center_df2[label][j], color=colors[j])"
   ]
  },
  {
   "cell_type": "code",
   "execution_count": 21,
   "metadata": {},
   "outputs": [
    {
     "name": "stdout",
     "output_type": "stream",
     "text": [
      "Cluster 0 Occurences:  28 blue\n",
      "Cluster 1 Occurences:  31 red\n",
      "Cluster 2 Occurences:  39 green\n",
      "Cluster 3 Occurences:  3 orange\n",
      "Cluster 4 Occurences:  66 purple\n"
     ]
    }
   ],
   "source": [
    "val2 = kmeans2.predict(df_scaled_pca)\n",
    "print(\"Cluster 0 Occurences: \", np.count_nonzero(val2 == 0), colors[0])\n",
    "print(\"Cluster 1 Occurences: \", np.count_nonzero(val2 == 1), colors[1])\n",
    "print(\"Cluster 2 Occurences: \", np.count_nonzero(val2 == 2), colors[2])\n",
    "print(\"Cluster 3 Occurences: \", np.count_nonzero(val2 == 3), colors[3])\n",
    "print(\"Cluster 4 Occurences: \", np.count_nonzero(val2 == 4), colors[4])"
   ]
  },
  {
   "cell_type": "markdown",
   "metadata": {},
   "source": [
    "### Analysis of Clusters\n",
    "\n",
    "In general, though the message the data is saying is largely the same, by applying more clusters one can create more discrete groups to separate out the countries.  As expected we can really see which nations are the poorest from the data and which countries are the most affluent.  One could use this study to optimize aid allocation to the various nations depending on how much they need it.\n",
    "\n",
    "Below are printouts of membership of each group in the larger amount of clusters scheme."
   ]
  },
  {
   "cell_type": "code",
   "execution_count": 22,
   "metadata": {},
   "outputs": [
    {
     "name": "stdout",
     "output_type": "stream",
     "text": [
      "Countries belonging to Cluster 0: (blue)\n",
      "Algeria\n",
      "Argentina\n",
      "Azerbaijan\n",
      "Bangladesh\n",
      "Bolivia\n",
      "Egypt\n",
      "Equatorial Guinea\n",
      "Eritrea\n",
      "Gabon\n",
      "India\n",
      "Indonesia\n",
      "Iran\n",
      "Iraq\n",
      "Kazakhstan\n",
      "Mongolia\n",
      "Myanmar\n",
      "Nepal\n",
      "Nigeria\n",
      "Pakistan\n",
      "Philippines\n",
      "Russia\n",
      "Saudi Arabia\n",
      "Sri Lanka\n",
      "Sudan\n",
      "Timor-Leste\n",
      "Uzbekistan\n",
      "Venezuela\n",
      "Yemen\n"
     ]
    }
   ],
   "source": [
    "print(\"Countries belonging to Cluster 0: (%s)\" % colors[0])\n",
    "for i in range(len(df_scaled_pca)):\n",
    "    if (val2[i] == 0):\n",
    "        print(labels[i])"
   ]
  },
  {
   "cell_type": "code",
   "execution_count": 23,
   "metadata": {},
   "outputs": [
    {
     "name": "stdout",
     "output_type": "stream",
     "text": [
      "Countries belonging to Cluster 1: (red)\n",
      "Australia\n",
      "Austria\n",
      "Belgium\n",
      "Brunei\n",
      "Canada\n",
      "Cyprus\n",
      "Czech Republic\n",
      "Denmark\n",
      "Finland\n",
      "France\n",
      "Germany\n",
      "Greece\n",
      "Iceland\n",
      "Ireland\n",
      "Israel\n",
      "Italy\n",
      "Japan\n",
      "Kuwait\n",
      "Netherlands\n",
      "New Zealand\n",
      "Norway\n",
      "Portugal\n",
      "Qatar\n",
      "Slovenia\n",
      "South Korea\n",
      "Spain\n",
      "Sweden\n",
      "Switzerland\n",
      "United Arab Emirates\n",
      "United Kingdom\n",
      "United States\n"
     ]
    }
   ],
   "source": [
    "print(\"Countries belonging to Cluster 1: (%s)\" % colors[1])\n",
    "for i in range(len(df_scaled_pca)):\n",
    "    if (val2[i] == 1):\n",
    "        print(labels[i])"
   ]
  },
  {
   "cell_type": "code",
   "execution_count": 24,
   "metadata": {},
   "outputs": [
    {
     "name": "stdout",
     "output_type": "stream",
     "text": [
      "Countries belonging to Cluster 2: (green)\n",
      "Afghanistan\n",
      "Angola\n",
      "Benin\n",
      "Burkina Faso\n",
      "Burundi\n",
      "Cameroon\n",
      "Central African Republic\n",
      "Chad\n",
      "Comoros\n",
      "Congo, Dem. Rep.\n",
      "Congo, Rep.\n",
      "Cote d'Ivoire\n",
      "Gambia\n",
      "Ghana\n",
      "Guinea\n",
      "Guinea-Bissau\n",
      "Haiti\n",
      "Kenya\n",
      "Kiribati\n",
      "Lao\n",
      "Lesotho\n",
      "Liberia\n",
      "Madagascar\n",
      "Malawi\n",
      "Mali\n",
      "Mauritania\n",
      "Mozambique\n",
      "Namibia\n",
      "Niger\n",
      "Rwanda\n",
      "Senegal\n",
      "Sierra Leone\n",
      "Solomon Islands\n",
      "South Africa\n",
      "Tajikistan\n",
      "Tanzania\n",
      "Togo\n",
      "Uganda\n",
      "Zambia\n"
     ]
    }
   ],
   "source": [
    "print(\"Countries belonging to Cluster 2: (%s)\" % colors[2])\n",
    "for i in range(len(df_scaled_pca)):\n",
    "    if (val2[i] == 2):\n",
    "        print(labels[i])"
   ]
  },
  {
   "cell_type": "code",
   "execution_count": 25,
   "metadata": {},
   "outputs": [
    {
     "name": "stdout",
     "output_type": "stream",
     "text": [
      "Countries belonging to Cluster 3: (orange)\n",
      "Luxembourg\n",
      "Malta\n",
      "Singapore\n"
     ]
    }
   ],
   "source": [
    "print(\"Countries belonging to Cluster 3: (%s)\" % colors[3])\n",
    "for i in range(len(df_scaled_pca)):\n",
    "    if (val2[i] == 3):\n",
    "        print(labels[i])"
   ]
  },
  {
   "cell_type": "code",
   "execution_count": 26,
   "metadata": {},
   "outputs": [
    {
     "name": "stdout",
     "output_type": "stream",
     "text": [
      "Countries belonging to Cluster 4: (purple)\n",
      "Albania\n",
      "Antigua and Barbuda\n",
      "Armenia\n",
      "Bahamas\n",
      "Bahrain\n",
      "Barbados\n",
      "Belarus\n",
      "Belize\n",
      "Bhutan\n",
      "Bosnia and Herzegovina\n",
      "Botswana\n",
      "Brazil\n",
      "Bulgaria\n",
      "Cambodia\n",
      "Cape Verde\n",
      "Chile\n",
      "China\n",
      "Colombia\n",
      "Costa Rica\n",
      "Croatia\n",
      "Dominican Republic\n",
      "Ecuador\n",
      "El Salvador\n",
      "Estonia\n",
      "Fiji\n",
      "Georgia\n",
      "Grenada\n",
      "Guatemala\n",
      "Guyana\n",
      "Hungary\n",
      "Jamaica\n",
      "Jordan\n",
      "Kyrgyz Republic\n",
      "Latvia\n",
      "Lebanon\n",
      "Libya\n",
      "Lithuania\n",
      "Macedonia, FYR\n",
      "Malaysia\n",
      "Maldives\n",
      "Mauritius\n",
      "Micronesia, Fed. Sts.\n",
      "Moldova\n",
      "Montenegro\n",
      "Morocco\n",
      "Oman\n",
      "Panama\n",
      "Paraguay\n",
      "Peru\n",
      "Poland\n",
      "Romania\n",
      "Samoa\n",
      "Serbia\n",
      "Seychelles\n",
      "Slovak Republic\n",
      "St. Vincent and the Grenadines\n",
      "Suriname\n",
      "Thailand\n",
      "Tonga\n",
      "Tunisia\n",
      "Turkey\n",
      "Turkmenistan\n",
      "Ukraine\n",
      "Uruguay\n",
      "Vanuatu\n",
      "Vietnam\n"
     ]
    }
   ],
   "source": [
    "print(\"Countries belonging to Cluster 4: (%s)\" % colors[4])\n",
    "for i in range(len(df_scaled_pca)):\n",
    "    if (val2[i] == 4):\n",
    "        print(labels[i])"
   ]
  },
  {
   "cell_type": "code",
   "execution_count": null,
   "metadata": {},
   "outputs": [],
   "source": []
  }
 ],
 "metadata": {
  "kernelspec": {
   "display_name": "Python 3",
   "language": "python",
   "name": "python3"
  },
  "language_info": {
   "codemirror_mode": {
    "name": "ipython",
    "version": 3
   },
   "file_extension": ".py",
   "mimetype": "text/x-python",
   "name": "python",
   "nbconvert_exporter": "python",
   "pygments_lexer": "ipython3",
   "version": "3.8.5"
  }
 },
 "nbformat": 4,
 "nbformat_minor": 4
}
